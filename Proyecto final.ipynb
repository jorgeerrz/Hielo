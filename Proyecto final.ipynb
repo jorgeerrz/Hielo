{
 "cells": [
  {
   "cell_type": "markdown",
   "metadata": {},
   "source": [
    "# Proyecto Final: Modelos de Hielo\n",
    "\n",
    "Luis Alemán\n",
    "\\\\ Jorge Ramírez"
   ]
  },
  {
   "cell_type": "markdown",
   "metadata": {},
   "source": [
    "Las siguientes funciones son para implementar el método de los tres colores."
   ]
  },
  {
   "cell_type": "code",
   "execution_count": 1,
   "metadata": {
    "collapsed": false
   },
   "outputs": [],
   "source": [
    "using PyPlot\n"
   ]
  },
  {
   "cell_type": "code",
   "execution_count": 2,
   "metadata": {
    "collapsed": false
   },
   "outputs": [
    {
     "data": {
      "text/html": [
       "<script charset=\"utf-8\">(function ($, undefined) {\n",
       "\n",
       "    function createElem(tag, attr, content) {\n",
       "\t// TODO: remove jQuery dependency\n",
       "\tvar el = $(\"<\" + tag + \"/>\").attr(attr);\n",
       "\tif (content) {\n",
       "\t    el.append(content);\n",
       "\t}\n",
       "\treturn el[0];\n",
       "    }\n",
       "\n",
       "    // A widget must expose an id field which identifies it to the backend,\n",
       "    // an elem attribute which is will be added to the DOM, and\n",
       "    // a getState() method which returns the value to be sent to the backend\n",
       "    // a sendUpdate() method which sends its current value to the backend\n",
       "    var Widget = {\n",
       "\tid: undefined,\n",
       "\telem: undefined,\n",
       "\tlabel: undefined,\n",
       "\tgetState: function () {\n",
       "\t    return this.elem.value;\n",
       "\t},\n",
       "\tsendUpdate: undefined\n",
       "    };\n",
       "\n",
       "    var Slider = function (typ, id, init) {\n",
       "\tvar attr = { type:  \"range\",\n",
       "\t\t     value: init.value,\n",
       "\t\t     min:   init.min,\n",
       "\t\t     max:   init.max,\n",
       "\t\t     step:  init.step },\n",
       "\t    elem = createElem(\"input\", attr),\n",
       "\t    self = this;\n",
       "\n",
       "\telem.onchange = function () {\n",
       "\t    self.sendUpdate();\n",
       "\t}\n",
       "\n",
       "\tthis.id = id;\n",
       "\tthis.elem = elem;\n",
       "\tthis.label = init.label;\n",
       "\n",
       "\tInputWidgets.commInitializer(this); // Initialize communication\n",
       "    }\n",
       "    Slider.prototype = Widget;\n",
       "\n",
       "    var Checkbox = function (typ, id, init) {\n",
       "\tvar attr = { type: \"checkbox\",\n",
       "\t\t     checked: init.value },\n",
       "\t    elem = createElem(\"input\", attr),\n",
       "\t    self = this;\n",
       "\n",
       "\tthis.getState = function () {\n",
       "\t    return elem.checked;\n",
       "\t}\n",
       "\telem.onchange = function () {\n",
       "\t    self.sendUpdate();\n",
       "\t}\n",
       "\n",
       "\tthis.id = id;\n",
       "\tthis.elem = elem;\n",
       "\tthis.label = init.label;\n",
       "\n",
       "\tInputWidgets.commInitializer(this);\n",
       "    }\n",
       "    Checkbox.prototype = Widget;\n",
       "\n",
       "    var Button = function (typ, id, init) {\n",
       "\tvar attr = { type:    \"button\",\n",
       "\t\t     value:   init.label },\n",
       "\t    elem = createElem(\"input\", attr),\n",
       "\t    self = this;\n",
       "\tthis.getState = function () {\n",
       "\t    return null;\n",
       "\t}\n",
       "\telem.onclick = function () {\n",
       "\t    self.sendUpdate();\n",
       "\t}\n",
       "\n",
       "\tthis.id = id;\n",
       "\tthis.elem = elem;\n",
       "\tthis.label = init.label;\n",
       "\n",
       "\tInputWidgets.commInitializer(this);\n",
       "    }\n",
       "    Button.prototype = Widget;\n",
       "\n",
       "    var Text = function (typ, id, init) {\n",
       "\tvar attr = { type:  \"text\",\n",
       "\t\t     placeholder: init.label,\n",
       "\t\t     value: init.value },\n",
       "\t    elem = createElem(\"input\", attr),\n",
       "\t    self = this;\n",
       "\tthis.getState = function () {\n",
       "\t    return elem.value;\n",
       "\t}\n",
       "\telem.onkeyup = function () {\n",
       "\t    self.sendUpdate();\n",
       "\t}\n",
       "\n",
       "\tthis.id = id;\n",
       "\tthis.elem = elem;\n",
       "\tthis.label = init.label;\n",
       "\n",
       "\tInputWidgets.commInitializer(this);\n",
       "    }\n",
       "    Text.prototype = Widget;\n",
       "\n",
       "    var Textarea = function (typ, id, init) {\n",
       "\tvar attr = { placeholder: init.label },\n",
       "\t    elem = createElem(\"textarea\", attr, init.value),\n",
       "\t    self = this;\n",
       "\tthis.getState = function () {\n",
       "\t    return elem.value;\n",
       "\t}\n",
       "\telem.onchange = function () {\n",
       "\t    self.sendUpdate();\n",
       "\t}\n",
       "\n",
       "\tthis.id = id;\n",
       "\tthis.elem = elem;\n",
       "\tthis.label = init.label;\n",
       "\n",
       "\tInputWidgets.commInitializer(this);\n",
       "    }\n",
       "    Textarea.prototype = Widget;\n",
       "\n",
       "    // RadioButtons\n",
       "    // Dropdown\n",
       "    // HTML\n",
       "    // Latex\n",
       "\n",
       "    var InputWidgets = {\n",
       "\tSlider: Slider,\n",
       "\tCheckbox: Checkbox,\n",
       "\tButton: Button,\n",
       "\tText: Text,\n",
       "\tTextarea: Textarea,\n",
       "\tdebug: false,\n",
       "\tlog: function () {\n",
       "\t    if (InputWidgets.debug) {\n",
       "\t\tconsole.log.apply(console, arguments);\n",
       "\t    }\n",
       "\t},\n",
       "\t// a central way to initalize communication\n",
       "\t// for widgets.\n",
       "\tcommInitializer: function (widget) {\n",
       "\t    widget.sendUpdate = function () {};\n",
       "\t}\n",
       "    };\n",
       "\n",
       "    window.InputWidgets = InputWidgets;\n",
       "\n",
       "})(jQuery, undefined);\n",
       "</script>"
      ]
     },
     "metadata": {},
     "output_type": "display_data"
    },
    {
     "data": {
      "text/html": [
       "<script charset=\"utf-8\">(function (IPython, $, _, MathJax, Widgets) {\n",
       "    $.event.special.destroyed = {\n",
       "\tremove: function(o) {\n",
       "\t    if (o.handler) {\n",
       "\t\to.handler.apply(this, arguments)\n",
       "\t    }\n",
       "\t}\n",
       "    }\n",
       "\n",
       "    var redrawValue = function (container, type, val) {\n",
       "\tvar selector = $(\"<div/>\");\n",
       "\tvar oa = new IPython.OutputArea(_.extend(selector, {\n",
       "\t    selector: selector,\n",
       "\t    prompt_area: true,\n",
       "\t    events: IPython.events,\n",
       "\t    keyboard_manager: IPython.keyboard_manager\n",
       "\t})); // Hack to work with IPython 2.1.0\n",
       "\n",
       "\tswitch (type) {\n",
       "\tcase \"image/png\":\n",
       "            var _src = 'data:' + type + ';base64,' + val;\n",
       "\t    $(container).find(\"img\").attr('src', _src);\n",
       "\t    break;\n",
       "\tdefault:\n",
       "\t    var toinsert = IPython.OutputArea.append_map[type].apply(\n",
       "\t\toa, [val, {}, selector]\n",
       "\t    );\n",
       "\t    $(container).empty().append(toinsert.contents());\n",
       "\t    selector.remove();\n",
       "\t}\n",
       "\tif (type === \"text/latex\" && MathJax) {\n",
       "\t    MathJax.Hub.Queue([\"Typeset\", MathJax.Hub, toinsert.get(0)]);\n",
       "\t}\n",
       "    }\n",
       "\n",
       "\n",
       "    $(document).ready(function() {\n",
       "\tWidgets.debug = false; // log messages etc in console.\n",
       "\tfunction initComm(evt, data) {\n",
       "\t    var comm_manager = data.kernel.comm_manager;\n",
       "        //_.extend(comm_manager.targets, require(\"widgets/js/widget\"))\n",
       "\t    comm_manager.register_target(\"Signal\", function (comm) {\n",
       "            comm.on_msg(function (msg) {\n",
       "                //Widgets.log(\"message received\", msg);\n",
       "                var val = msg.content.data.value;\n",
       "                $(\".signal-\" + comm.comm_id).each(function() {\n",
       "                var type = $(this).data(\"type\");\n",
       "                if (val[type]) {\n",
       "                    redrawValue(this, type, val[type], type);\n",
       "                }\n",
       "                });\n",
       "                delete val;\n",
       "                delete msg.content.data.value;\n",
       "            });\n",
       "\t    });\n",
       "\n",
       "\t    // coordingate with Comm and redraw Signals\n",
       "\t    // XXX: Test using Reactive here to improve performance\n",
       "\t    $([IPython.events]).on(\n",
       "\t\t'output_appended.OutputArea', function (event, type, value, md, toinsert) {\n",
       "\t\t    if (md && md.reactive) {\n",
       "                // console.log(md.comm_id);\n",
       "                toinsert.addClass(\"signal-\" + md.comm_id);\n",
       "                toinsert.data(\"type\", type);\n",
       "                // Signal back indicating the mimetype required\n",
       "                var comm_manager = IPython.notebook.kernel.comm_manager;\n",
       "                var comm = comm_manager.comms[md.comm_id];\n",
       "                comm.then(function (c) {\n",
       "                    c.send({action: \"subscribe_mime\",\n",
       "                       mime: type});\n",
       "                    toinsert.bind(\"destroyed\", function() {\n",
       "                        c.send({action: \"unsubscribe_mime\",\n",
       "                               mime: type});\n",
       "                    });\n",
       "                })\n",
       "\t\t    }\n",
       "\t    });\n",
       "\t}\n",
       "\n",
       "\ttry {\n",
       "\t    // try to initialize right away. otherwise, wait on the status_started event.\n",
       "\t    initComm(undefined, IPython.notebook);\n",
       "\t} catch (e) {\n",
       "\t    $([IPython.events]).on('status_started.Kernel', initComm);\n",
       "\t}\n",
       "    });\n",
       "})(IPython, jQuery, _, MathJax, InputWidgets);\n",
       "</script>"
      ]
     },
     "metadata": {},
     "output_type": "display_data"
    }
   ],
   "source": [
    "using Interact"
   ]
  },
  {
   "cell_type": "markdown",
   "metadata": {},
   "source": [
    "La función conf_i genera una configuración inicial que cumple con las reglas del hielo, es decir, no hay colores repetidos a primeros vecinos. Como nuestro algoritmo es ergódico, desde ésta configuración \"cíclica\" se puede llegar a cualquier otra configuración que cumpla con las reglas del hielo."
   ]
  },
  {
   "cell_type": "code",
<<<<<<< HEAD
   "execution_count": 3,
=======
   "execution_count": 2,
>>>>>>> upstream/master
   "metadata": {
    "collapsed": false
   },
   "outputs": [
    {
     "data": {
      "text/plain": [
       "conf_i (generic function with 1 method)"
      ]
     },
<<<<<<< HEAD
     "execution_count": 3,
=======
     "execution_count": 2,
>>>>>>> upstream/master
     "metadata": {},
     "output_type": "execute_result"
    }
   ],
   "source": [
    "function conf_i(n::Int,m::Int)\n",
    "    out=zeros(n,n)\n",
    "    out[1,1]=rand(0:2)\n",
    "    for i in 1:n-1\n",
    "        for j in 1:n-1\n",
    "            out[i,j+1]=mod(out[i,j]+1,3)\n",
    "        end\n",
    "        out[i+1,:]=mod(out[i,:]+1,3)\n",
    "    end\n",
    "    \n",
    "    #cuando n es 1 mod 3, hay problemas con las reglas de hielo\n",
    "    if mod(n,3)==1\n",
    "        out[:,n]=mod(out[:,1]+1,3)\n",
    "        out[n,:]=mod(out[1,:]+1,3)\n",
    "        out[n,n]=mod(out[1,1]+2,3)\n",
    "    end\n",
    "    out\n",
    "end"
   ]
  },
  {
   "cell_type": "code",
<<<<<<< HEAD
   "execution_count": 4,
=======
   "execution_count": 3,
>>>>>>> upstream/master
   "metadata": {
    "collapsed": false
   },
   "outputs": [
    {
     "data": {
      "text/plain": [
       "Single_cluster (generic function with 1 method)"
      ]
     },
<<<<<<< HEAD
     "execution_count": 4,
=======
     "execution_count": 3,
>>>>>>> upstream/master
     "metadata": {},
     "output_type": "execute_result"
    }
   ],
   "source": [
    "function Single_cluster(arreglo::Array{Float64,2})\n",
    "    L2=length(arreglo[1,:])\n",
    "    L1=length(arreglo[:,1])\n",
    "    red_bool=trues(L1,L2)\n",
    "    #Se escoge un cuadrado al azar entre toda la red, y su número es escogido como 'colorA'\n",
    "    i=rand(1:L1)\n",
    "    j=rand(1:L2)\n",
    "    colorA=arreglo[i,j]\n",
    "    #Se escoge al azar un 'colorB' entre los restantes\n",
    "    colorB=mod(rand(colorA+1:colorA+2),3)\n",
    "    index_i=[i]\n",
    "    index_j=[j]\n",
    "    #Cambio el color de la celda inicial\n",
    "    arreglo[i,j]=colorB\n",
    "    red_bool[i,j]=false\n",
    "    test=false\n",
    "    t_limit=L1*2\n",
    "    t=1\n",
    "    while t<t_limit\n",
    "        new_index_i=Int[]\n",
    "        new_index_j=Int[]\n",
    "        for n=1:length(index_i)\n",
    "            for ii=0:1\n",
    "                inew=mod1(index_i[n]+ii*2-1,L1)\n",
    "                jnew=mod1(index_j[n]+ii*2-1,L2)\n",
    "                if arreglo[inew,index_j[n]]==colorA && red_bool[inew,index_j[n]]==true\n",
    "                    push!(new_index_i,inew)\n",
    "                    push!(new_index_j,index_j[n])\n",
    "                    red_bool[inew,index_j[n]]=false\n",
    "                    arreglo[inew,index_j[n]]=colorB\n",
    "                    test=true\n",
    "                end\n",
    "                if arreglo[inew,index_j[n]]==colorB && red_bool[inew,index_j[n]]==true\n",
    "                    push!(new_index_i,inew)\n",
    "                    push!(new_index_j,index_j[n])\n",
    "                    red_bool[inew,index_j[n]]=false\n",
    "                    arreglo[inew,index_j[n]]=colorA\n",
    "                    test=true\n",
    "                end\n",
    "                if arreglo[index_i[n],jnew]==colorA && red_bool[index_i[n],jnew]==true\n",
    "                    push!(new_index_i,index_i[n])\n",
    "                    push!(new_index_j,jnew)\n",
    "                    red_bool[index_i[n],jnew]=false\n",
    "                    arreglo[index_i[n],jnew]=colorB\n",
    "                    test=true\n",
    "                end\n",
    "                if arreglo[index_i[n],jnew]==colorB && red_bool[index_i[n],jnew]==true\n",
    "                    push!(new_index_i,index_i[n])\n",
    "                    push!(new_index_j,jnew)\n",
    "                    red_bool[index_i[n],jnew]=false\n",
    "                    arreglo[index_i[n],jnew]=colorA\n",
    "                    test=true\n",
    "                end\n",
    "            end\n",
    "        end\n",
    "        index_i=deepcopy(new_index_i)\n",
    "        index_j=deepcopy(new_index_j)\n",
    "        if test==false\n",
    "            #println(\"there are no more squares to add\")\n",
    "            t=t_limit\n",
    "        end\n",
    "        test=false\n",
    "    end\n",
    "    return arreglo\n",
    "end"
   ]
  },
  {
   "cell_type": "code",
   "execution_count": 5,
   "metadata": {
    "collapsed": false,
    "scrolled": true
   },
   "outputs": [
    {
     "data": {
      "image/png": [
       "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"
      ],
      "text/plain": [
       "PyPlot.Figure(PyObject <matplotlib.figure.Figure object at 0x314adaf50>)"
      ]
     },
     "metadata": {},
     "output_type": "display_data"
    },
    {
     "data": {
      "text/plain": [
       "PyObject <matplotlib.collections.QuadMesh object at 0x3151ff2d0>"
      ]
     },
     "execution_count": 5,
     "metadata": {},
     "output_type": "execute_result"
    }
   ],
   "source": [
    "hey=conf_i(5,5)\n",
    "fig=figure(figsize=[3,3])\n",
    "pcolormesh(hey)"
   ]
  },
  {
   "cell_type": "code",
   "execution_count": 4,
   "metadata": {
    "collapsed": false
   },
   "outputs": [
    {
     "data": {
      "text/plain": [
       "SingleCluster (generic function with 1 method)"
      ]
     },
     "execution_count": 4,
     "metadata": {},
     "output_type": "execute_result"
    }
   ],
   "source": [
    "function SingleCluster(arreglo::Array{Float64,2},red_bool,i,j,colorA, colorB)\n",
    "    L2=length(arreglo[1,:])\n",
    "    L1=length(arreglo[:,1])\n",
    "    #red_bool=trues(L1,L2)\n",
    "    arreglo_old=deepcopy(arreglo)\n",
    "    if arreglo[i,j]==colorA\n",
    "        arreglo[i,j]=colorB\n",
    "    else\n",
    "        arreglo[i,j]=colorA\n",
    "    end\n",
    "    index_i=[i]\n",
    "    index_j=[j]\n",
    "    red_bool[i,j]=false\n",
    "    test=false\n",
    "    t_limit=max(L1,L2)\n",
    "    t=1\n",
    "    while t<t_limit\n",
    "        new_index_i=Int[]\n",
    "        new_index_j=Int[]\n",
    "        for n=1:length(index_i)\n",
    "            for ii=0:1\n",
    "                inew=mod1(index_i[n]+ii*2-1,L1)\n",
    "                jnew=mod1(index_j[n]+ii*2-1,L2)\n",
    "                if arreglo[inew,index_j[n]]==colorA && red_bool[inew,index_j[n]]==true\n",
    "                    push!(new_index_i,inew)\n",
    "                    push!(new_index_j,index_j[n])\n",
    "                    red_bool[inew,index_j[n]]=false\n",
    "                    arreglo[inew,index_j[n]]=colorB\n",
    "                    test=true\n",
    "                end\n",
    "                if arreglo[inew,index_j[n]]==colorB && red_bool[inew,index_j[n]]==true\n",
    "                    push!(new_index_i,inew)\n",
    "                    push!(new_index_j,index_j[n])\n",
    "                    red_bool[inew,index_j[n]]=false\n",
    "                    arreglo[inew,index_j[n]]=colorA\n",
    "                    test=true\n",
    "                end\n",
    "                if arreglo[index_i[n],jnew]==colorA && red_bool[index_i[n],jnew]==true\n",
    "                    push!(new_index_i,index_i[n])\n",
    "                    push!(new_index_j,jnew)\n",
    "                    red_bool[index_i[n],jnew]=false\n",
    "                    arreglo[index_i[n],jnew]=colorB\n",
    "                    test=true\n",
    "                end\n",
    "                if arreglo[index_i[n],jnew]==colorB && red_bool[index_i[n],jnew]==true\n",
    "                    push!(new_index_i,index_i[n])\n",
    "                    push!(new_index_j,jnew)\n",
    "                    red_bool[index_i[n],jnew]=false\n",
    "                    arreglo[index_i[n],jnew]=colorA\n",
    "                    test=true\n",
    "                end\n",
    "            end\n",
    "        end\n",
    "        index_i=deepcopy(new_index_i)\n",
    "        index_j=deepcopy(new_index_j)\n",
    "        if test==false\n",
    "            t=t_limit\n",
    "        end\n",
    "        test=false\n",
    "    end\n",
    "    #Se escoge con 50% si se cambian o no los colores de este nuevo cluster \n",
    "    if rand()<0.5\n",
    "        #println(\":C\")\n",
    "        return arreglo_old,red_bool\n",
    "    else\n",
    "        return arreglo,red_bool\n",
    "    end\n",
    "end"
   ]
  },
  {
   "cell_type": "code",
   "execution_count": 5,
   "metadata": {
    "collapsed": false
   },
   "outputs": [
    {
     "data": {
      "text/plain": [
       "Update! (generic function with 1 method)"
      ]
     },
     "execution_count": 5,
     "metadata": {},
     "output_type": "execute_result"
    }
   ],
   "source": [
    "function Update!(red_bool,red_bool_dummy)\n",
    "    L2=length(red_bool[1,:])\n",
    "    L1=length(red_bool[:,1])\n",
    "    for i in 1:L1\n",
    "        for j in 1:L2\n",
    "            if red_bool_dummy[i,j]==false\n",
    "                red_bool[i,j]=false\n",
    "            end\n",
    "        end\n",
    "    end\n",
    "    #return red_bool\n",
    "end"
   ]
  },
  {
   "cell_type": "code",
   "execution_count": 6,
   "metadata": {
    "collapsed": false
   },
   "outputs": [
    {
     "data": {
      "text/plain": [
       "MultiCluster (generic function with 1 method)"
      ]
     },
     "execution_count": 6,
     "metadata": {},
     "output_type": "execute_result"
    }
   ],
   "source": [
    "function MultiCluster(arreglo)\n",
    "    L2=length(arreglo[1,:])\n",
    "    L1=length(arreglo[:,1])\n",
    "    red_bool=trues(L1,L2)\n",
    "    #hey=[]\n",
    "    #Se escoge al azar dos colores\n",
    "    colorA=rand(0:2)\n",
    "    colorB=mod(rand(colorA+1:colorA+2),3)\n",
    "    for i in 1:L1\n",
    "        for j in 1:L2\n",
    "            if red_bool[i,j]==true\n",
    "                if arreglo[i,j]==colorA || arreglo[i,j]==colorB\n",
    "                    arreglo,red_bool_dummy=SingleCluster(arreglo,red_bool,i,j,colorA,colorB)\n",
    "                    Update!(red_bool,red_bool_dummy)\n",
    "                end\n",
    "            end\n",
    "        end\n",
    "    end\n",
    "    return arreglo\n",
    "end"
   ]
  },
  {
   "cell_type": "code",
   "execution_count": 71,
   "metadata": {
    "collapsed": false
   },
   "outputs": [
    {
     "name": "stdout",
     "output_type": "stream",
     "text": [
      "hey => [2.0 0.0 1.0 2.0 0.0 1.0 2.0 0.0 1.0 2.0 0.0 1.0 2.0 0.0 1.0 2.0 0.0 1.0 2.0 0.0\n",
      " 0.0 1.0 2.0 0.0 1.0 2.0 0.0 1.0 2.0 0.0 1.0 2.0 0.0 1.0 2.0 0.0 1.0 2.0 0.0 1.0\n",
      " 1.0 2.0 0.0 1.0 2.0 0.0 1.0 2.0 0.0 1.0 2.0 0.0 1.0 2.0 0.0 1.0 2.0 0.0 1.0 2.0\n",
      " 2.0 0.0 1.0 2.0 0.0 1.0 2.0 0.0 1.0 2.0 0.0 1.0 2.0 0.0 1.0 2.0 0.0 1.0 2.0 0.0\n",
      " 0.0 1.0 2.0 0.0 1.0 2.0 0.0 1.0 2.0 0.0 1.0 2.0 0.0 1.0 2.0 0.0 1.0 2.0 0.0 1.0\n",
      " 1.0 2.0 0.0 1.0 2.0 0.0 1.0 2.0 0.0 1.0 2.0 0.0 1.0 2.0 0.0 1.0 2.0 0.0 1.0 2.0\n",
      " 2.0 0.0 1.0 2.0 0.0 1.0 2.0 0.0 1.0 2.0 0.0 1.0 2.0 0.0 1.0 2.0 0.0 1.0 2.0 0.0\n",
      " 0.0 1.0 2.0 0.0 1.0 2.0 0.0 1.0 2.0 0.0 1.0 2.0 0.0 1.0 2.0 0.0 1.0 2.0 0.0 1.0\n",
      " 1.0 2.0 0.0 1.0 2.0 0.0 1.0 2.0 0.0 1.0 2.0 0.0 1.0 2.0 0.0 1.0 2.0 0.0 1.0 2.0\n",
      " 2.0 0.0 1.0 2.0 0.0 1.0 2.0 0.0 1.0 2.0 0.0 1.0 2.0 0.0 1.0 2.0 0.0 1.0 2.0 0.0\n",
      " 0.0 1.0 2.0 0.0 1.0 2.0 0.0 1.0 2.0 0.0 1.0 2.0 0.0 1.0 2.0 0.0 1.0 2.0 0.0 1.0\n",
      " 1.0 2.0 0.0 1.0 2.0 0.0 1.0 2.0 0.0 1.0 2.0 0.0 1.0 2.0 0.0 1.0 2.0 0.0 1.0 2.0\n",
      " 2.0 0.0 1.0 2.0 0.0 1.0 2.0 0.0 1.0 2.0 0.0 1.0 2.0 0.0 1.0 2.0 0.0 1.0 2.0 0.0\n",
      " 0.0 1.0 2.0 0.0 1.0 2.0 0.0 1.0 2.0 0.0 1.0 2.0 0.0 1.0 2.0 0.0 1.0 2.0 0.0 1.0\n",
      " 1.0 2.0 0.0 1.0 2.0 0.0 1.0 2.0 0.0 1.0 2.0 0.0 1.0 2.0 0.0 1.0 2.0 0.0 1.0 2.0\n",
      " 2.0 0.0 1.0 2.0 0.0 1.0 2.0 0.0 1.0 2.0 0.0 1.0 2.0 0.0 1.0 2.0 0.0 1.0 2.0 0.0\n",
      " 0.0 1.0 2.0 0.0 1.0 2.0 0.0 1.0 2.0 0.0 1.0 2.0 0.0 1.0 2.0 0.0 1.0 2.0 0.0 1.0\n",
      " 1.0 2.0 0.0 1.0 2.0 0.0 1.0 2.0 0.0 1.0 2.0 0.0 1.0 2.0 0.0 1.0 2.0 0.0 1.0 2.0\n",
      " 2.0 0.0 1.0 2.0 0.0 1.0 2.0 0.0 1.0 2.0 0.0 1.0 2.0 0.0 1.0 2.0 0.0 1.0 2.0 0.0\n",
      " 0.0 1.0 2.0 0.0 1.0 2.0 0.0 1.0 2.0 0.0 1.0 2.0 0.0 1.0 2.0 0.0 1.0 2.0 0.0 1.0]\n"
     ]
    },
    {
     "data": {
      "image/png": [
       "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"
      ],
      "text/plain": [
       "Figure(PyObject <matplotlib.figure.Figure object at 0x7f4af96aa190>)"
      ]
     },
     "metadata": {},
     "output_type": "display_data"
    },
    {
     "data": {
      "text/plain": [
       "PyObject <matplotlib.collections.QuadMesh object at 0x7f4af95a5390>"
      ]
     },
     "execution_count": 71,
     "metadata": {},
     "output_type": "execute_result"
    }
   ],
   "source": [
    "hey_old=conf_i(20,20)\n",
    "hey=copy(hey_old)\n",
    "@show hey\n",
    "for t in 1:1000\n",
    "    hey_new=MultiCluster(hey_old)\n",
    "    hey_new,hey_old=hey_old,hey_new\n",
    "end\n",
    "figure(figsize=[8,6])\n",
    "subplot(1,2,1)\n",
    "#figure(figsize=[3,3])\n",
    "pcolormesh(hey)\n",
    "\n",
    "subplot(1,2,2)\n",
    "pcolormesh(hey_old)"
   ]
  },
  {
   "cell_type": "markdown",
   "metadata": {
    "collapsed": true
   },
   "source": [
    "#Energías"
   ]
  },
  {
   "cell_type": "markdown",
   "metadata": {},
   "source": [
    "Existen muchos modelos energéticos para el arreglo de los Hidrógenos en los Oxígenos. Trabajaremos con el modelo $F$ que favorece los arreglos simétricos. Para el modelo de 3 colores, esto se traduce en parejas de segundos vecinos (diagonales) del mismo color. El hamiltoniano se transforma entonces:\n",
    "$$H=-\\epsilon \\sum \\limits_{[i,j]}(\\delta_{c_ic_j} - \\frac{1}{2})=N\\epsilon - \\epsilon \\sum \\limits_{[i,j]}\\delta_{c_ic_j}$$"
   ]
  },
  {
   "cell_type": "markdown",
   "metadata": {},
   "source": [
    "El algoritmo entonces para crear clusters que favorezcan parejas de segundos vecinos del mismo color dependiente de la temperatura será:\n",
    "1. Escogemos un cuadro de toda la red como semilla de nuestro cluster. Este cuadro tiene color A.\n",
    "2. Escogemos un segundo color de las otras dos posibilidades, lo llamamos color B.\n",
    "3. Empezando de nuestra semilla, formamos un cluster de cuadros añadiendo todos los primeros vecinos que tengan color A o color B, pero además ahora incluiremos con probablidad $P_{add}(T)$ a los segundos vecinos del cuadro $i$ que ya está en el cluster con la condición que tengan el mismo color que $i$.\n",
    "4. Los colores A y B de todos los cuadros del cluster son intercambiados."
   ]
  },
  {
   "cell_type": "markdown",
   "metadata": {},
   "source": [
    "$$P_{add}=1-e^{-\\beta \\epsilon}$$"
   ]
  },
  {
   "cell_type": "code",
   "execution_count": 11,
   "metadata": {
    "collapsed": false
   },
   "outputs": [
    {
     "data": {
      "text/plain": [
       "segundos_vecinos (generic function with 1 method)"
      ]
     },
     "execution_count": 11,
     "metadata": {},
     "output_type": "execute_result"
    }
   ],
   "source": [
    "function segundos_vecinos(arreglo::Array{Float64,2},i,j)\n",
    "    L1=length(arreglo[:,1])\n",
    "    L2=length(arreglo[1,:])\n",
    "    arreglo[mod1(i-1,L1),mod1(j-1,L2)],arreglo[mod1(i-1,L1),mod1(j+1,L2)],arreglo[mod1(i+1,L1),mod1(j-1,L2)],arreglo[mod1(i+1,L1),mod1(j+1,L2)]\n",
    "end"
   ]
  },
  {
   "cell_type": "code",
   "execution_count": 12,
   "metadata": {
    "collapsed": false
   },
   "outputs": [
    {
     "data": {
      "text/plain": [
       "indices_segundos (generic function with 1 method)"
      ]
     },
     "execution_count": 12,
     "metadata": {},
     "output_type": "execute_result"
    }
   ],
   "source": [
    "function indices_segundos(ij,i,j,L1,L2)\n",
    "    if ij==1\n",
    "        return mod1(i-1,L1),mod1(j-1,L2)\n",
    "        elseif ij==2\n",
    "        return mod1(i-1,L1),mod1(j+1,L2)\n",
    "        elseif ij==3\n",
    "        return mod1(i+1,L1),mod1(j-1,L2)\n",
    "        elseif ij==4\n",
    "        return mod1(i+1,L1),mod1(j+1,L2)\n",
    "    end\n",
    "end"
   ]
  },
  {
   "cell_type": "code",
   "execution_count": 22,
   "metadata": {
    "collapsed": false
   },
   "outputs": [
    {
     "data": {
      "text/plain": [
       "contador_segundos (generic function with 1 method)"
      ]
     },
     "execution_count": 22,
     "metadata": {},
     "output_type": "execute_result"
    }
   ],
   "source": [
    "function contador_segundos(arreglo::Array{Float64,2})\n",
    "    L1=length(arreglo[:,1])\n",
    "    L2=length(arreglo[1,:])\n",
    "    contador=0\n",
    "    for i in 1:L1\n",
    "        for j in 1:L2\n",
    "            for ij in 1:4\n",
    "                if segundos_vecinos(arreglo,i,j)[ij]==arreglo[i,j]\n",
    "                    contador+=1\n",
    "                end\n",
    "            end\n",
    "        end\n",
    "    end\n",
    "    contador/2\n",
    "end"
   ]
  },
  {
   "cell_type": "code",
   "execution_count": 13,
   "metadata": {
    "collapsed": false
   },
   "outputs": [
    {
     "data": {
      "text/plain": [
       "Single_cluster_E (generic function with 2 methods)"
      ]
     },
     "execution_count": 13,
     "metadata": {},
     "output_type": "execute_result"
    }
   ],
   "source": [
    "function Single_cluster_E(β,arreglo::Array{Float64,2},ϵ=1.0)\n",
    "    L2=length(arreglo[1,:])\n",
    "    L1=length(arreglo[:,1])\n",
    "    red_bool=trues(L1,L2)\n",
    "    P_add=1-e^(-β*ϵ)\n",
    "    #Se escoge un cuadrado al azar entre toda la red, y su número es escogido como 'colorA'\n",
    "    i=rand(1:L1)\n",
    "    j=rand(1:L2)\n",
    "    colorA=arreglo[i,j]\n",
    "    #Se escoge al azar un 'colorB' entre los restantes\n",
    "    colorB=mod(rand(colorA+1:colorA+2),3)\n",
    "    index_i=[i]\n",
    "    index_j=[j]\n",
    "    colorC=3-(colorA+colorB)\n",
    "    #Cambio el color de la celda inicial\n",
    "    arreglo[i,j]=colorB\n",
    "    red_bool[i,j]=false\n",
    "    test=false\n",
    "    t_limit=L1*2\n",
    "    t=1\n",
    "    while t<t_limit\n",
    "        new_index_i=Int[]\n",
    "        new_index_j=Int[]\n",
    "        for n=1:length(index_i)\n",
    "            for ii=0:1\n",
    "                inew=mod1(index_i[n]+ii*2-1,L1)\n",
    "                jnew=mod1(index_j[n]+ii*2-1,L2)\n",
    "                if arreglo[inew,index_j[n]]==colorA && red_bool[inew,index_j[n]]==true\n",
    "                    push!(new_index_i,inew)\n",
    "                    push!(new_index_j,index_j[n])\n",
    "                    red_bool[inew,index_j[n]]=false\n",
    "                    arreglo[inew,index_j[n]]=colorB\n",
    "                    test=true\n",
    "                end\n",
    "                if arreglo[inew,index_j[n]]==colorB && red_bool[inew,index_j[n]]==true\n",
    "                    push!(new_index_i,inew)\n",
    "                    push!(new_index_j,index_j[n])\n",
    "                    red_bool[inew,index_j[n]]=false\n",
    "                    arreglo[inew,index_j[n]]=colorA\n",
    "                    test=true\n",
    "                end\n",
    "                if arreglo[index_i[n],jnew]==colorA && red_bool[index_i[n],jnew]==true\n",
    "                    push!(new_index_i,index_i[n])\n",
    "                    push!(new_index_j,jnew)\n",
    "                    red_bool[index_i[n],jnew]=false\n",
    "                    arreglo[index_i[n],jnew]=colorB\n",
    "                    test=true\n",
    "                end\n",
    "                if arreglo[index_i[n],jnew]==colorB && red_bool[index_i[n],jnew]==true\n",
    "                    push!(new_index_i,index_i[n])\n",
    "                    push!(new_index_j,jnew)\n",
    "                    red_bool[index_i[n],jnew]=false\n",
    "                    arreglo[index_i[n],jnew]=colorA\n",
    "                    test=true\n",
    "                end\n",
    "            end\n",
    "            #Segundos vecinos\n",
    "            for ij in 1:4\n",
    "                segundo=segundos_vecinos(arreglo,index_i[n],index_j[n])[ij]\n",
    "                ii_new=indices_segundos(ij,index_i[n],index_j[n],L1,L2)[1]\n",
    "                jj_new=indices_segundos(ij,index_i[n],index_j[n],L1,L2)[2]\n",
    "                if segundo !=arreglo[index_i[n],index_j[n]] && segundo !=colorC && red_bool[ii_new,jj_new]==true\n",
    "                    if rand()<P_add\n",
    "                    #println(\"aceptó\")\n",
    "                        push!(new_index_i,ii_new)\n",
    "                        push!(new_index_j,jj_new)\n",
    "                        red_bool[ii_new,jj_new]=false\n",
    "                        if arreglo[index_i[n],index_j[n]]==colorA\n",
    "                                arreglo[ii_new,jj_new]=colorA\n",
    "                        else\n",
    "                                arreglo[ii_new,jj_new]=colorB\n",
    "                        end\n",
    "                        test=true\n",
    "                    end\n",
    "                end\n",
    "            end\n",
    "        end\n",
    "        index_i=deepcopy(new_index_i)\n",
    "        index_j=deepcopy(new_index_j)\n",
    "        if test==false\n",
    "            #println(\"there are no more squares to add\")\n",
    "            t=t_limit\n",
    "        end\n",
    "        test=false\n",
    "    end\n",
    "    return arreglo\n",
    "end"
   ]
  },
  {
   "cell_type": "code",
   "execution_count": 23,
   "metadata": {
    "collapsed": false
   },
   "outputs": [
    {
     "data": {
      "image/png": "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",
      "text/plain": [
       "Figure(PyObject <matplotlib.figure.Figure object at 0x7fc490b42850>)"
      ]
     },
     "metadata": {},
     "output_type": "display_data"
    },
    {
     "data": {
      "text/plain": [
       "PyObject <matplotlib.collections.QuadMesh object at 0x7fc490a658d0>"
      ]
     },
     "execution_count": 23,
     "metadata": {},
     "output_type": "execute_result"
    }
   ],
   "source": [
    "inicial_s=conf_i(20,20)\n",
    "old=copy(inicial)\n",
    "for t in 1:100\n",
    "    new=Single_cluster_E(1.0,old)\n",
    "    new,old=old,new\n",
    "end\n",
    "figure(figsize=[8,6])\n",
    "subplot(1,2,1)\n",
    "#figure(figsize=[3,3])\n",
    "pcolormesh(inicial_s)\n",
    "\n",
    "subplot(1,2,2)\n",
    "pcolormesh(old)"
   ]
  },
  {
   "cell_type": "code",
   "execution_count": 24,
   "metadata": {
    "collapsed": false
   },
   "outputs": [
    {
     "data": {
      "text/plain": [
       "(400.0,758.0)"
      ]
     },
     "execution_count": 24,
     "metadata": {},
     "output_type": "execute_result"
    }
   ],
   "source": [
    "contador_segundos(inicial),contador_segundos(old)"
   ]
  },
  {
   "cell_type": "code",
   "execution_count": 36,
   "metadata": {
    "collapsed": false
   },
   "outputs": [
    {
     "name": "stdout",
     "output_type": "stream",
     "text": [
      "elapsed time: 98.314305672 seconds (17522185952 bytes allocated, 28.17% gc time)\n"
     ]
    }
   ],
   "source": [
    "old=conf_i(20,20)\n",
    "betas=[i*0.2 for i in 0:20]\n",
    "out=zeros(length(betas))\n",
    "@time for i in 1:length(betas)\n",
    "    for t in 1:1000\n",
    "        new=Single_cluster_E(betas[i],old)\n",
    "        old,new=new,old\n",
    "    end\n",
    "    out[i]=contador_segundos(old)\n",
    "end"
   ]
  },
  {
   "cell_type": "code",
   "execution_count": 39,
   "metadata": {
    "collapsed": false
   },
   "outputs": [
    {
     "data": {
      "image/png": "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",
      "text/plain": [
       "Figure(PyObject <matplotlib.figure.Figure object at 0x7fc490409dd0>)"
      ]
     },
     "metadata": {},
     "output_type": "display_data"
    },
    {
     "data": {
      "text/plain": [
       "1-element Array{Any,1}:\n",
       " PyObject <matplotlib.lines.Line2D object at 0x7fc4900c1e50>"
      ]
     },
     "execution_count": 39,
     "metadata": {},
     "output_type": "execute_result"
    }
   ],
   "source": [
    "title(\"Número de segundos vecinos con el mismo color como función de la temperatura, L=20\")\n",
    "xlabel(L\"$\\beta$\")\n",
    "ylabel(\"Cuentas\")\n",
    "plot(betas,out)"
   ]
  },
  {
   "cell_type": "markdown",
   "metadata": {},
   "source": [
    "###A medida que la temperatura baja, vemos que es más fácil aceptar los cambios y el número de segundos vecinos con el mismo color tiende a su máximo de 2N"
   ]
  },
  {
   "cell_type": "code",
   "execution_count": 40,
   "metadata": {
    "collapsed": true
   },
   "outputs": [],
   "source": [
    "old=conf_i(30,30)\n",
    "inicial=copy(old)\n",
    "for t in 1:1000\n",
    "    new=Single_cluster_E(0.1,old)\n",
    "    old,new=new,old\n",
    "end"
   ]
  },
  {
   "cell_type": "code",
   "execution_count": 41,
   "metadata": {
    "collapsed": false
   },
   "outputs": [
    {
     "data": {
      "image/png": "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",
      "text/plain": [
       "Figure(PyObject <matplotlib.figure.Figure object at 0x7fc490af5710>)"
      ]
     },
     "metadata": {},
     "output_type": "display_data"
    },
    {
     "data": {
      "text/plain": [
       "PyObject <matplotlib.collections.QuadMesh object at 0x7fc49000df10>"
      ]
     },
     "execution_count": 41,
     "metadata": {},
     "output_type": "execute_result"
    }
   ],
   "source": [
    "figure(figsize=[8,6])\n",
    "subplot(1,2,1)\n",
    "#figure(figsize=[3,3])\n",
    "pcolormesh(inicial)\n",
    "\n",
    "subplot(1,2,2)\n",
    "pcolormesh(old)"
   ]
  },
  {
   "cell_type": "markdown",
   "metadata": {},
   "source": [
    "#A partir de aquí las cosas no funcionan tan bien"
   ]
  },
  {
   "cell_type": "code",
   "execution_count": 14,
   "metadata": {
    "collapsed": false
   },
   "outputs": [
    {
     "data": {
      "text/plain": [
       "SingleCluster_E (generic function with 2 methods)"
      ]
     },
     "execution_count": 14,
     "metadata": {},
     "output_type": "execute_result"
    }
   ],
   "source": [
    "function SingleCluster_E(β,arreglo::Array{Float64,2},red_bool,i,j,colorA,colorB,colorC,ϵ=1.0)\n",
    "    L2=length(arreglo[1,:])\n",
    "    L1=length(arreglo[:,1])\n",
    "    P_add=1-e^(-β*ϵ)\n",
    "    #red_bool=trues(L1,L2)\n",
    "    arreglo_old=deepcopy(arreglo)\n",
    "    if arreglo[i,j]==colorA\n",
    "        arreglo[i,j]=colorB\n",
    "    else\n",
    "        arreglo[i,j]=colorA\n",
    "    end\n",
    "    index_i=[i]\n",
    "    index_j=[j]\n",
    "    red_bool[i,j]=false\n",
    "    test=false\n",
    "    t_limit=max(L1,L2)\n",
    "    t=1\n",
    "    while t<t_limit\n",
    "        new_index_i=Int[]\n",
    "        new_index_j=Int[]\n",
    "        for n=1:length(index_i)\n",
    "            for ii=0:1\n",
    "                inew=mod1(index_i[n]+ii*2-1,L1)\n",
    "                jnew=mod1(index_j[n]+ii*2-1,L2)\n",
    "                if arreglo[inew,index_j[n]]==colorA && red_bool[inew,index_j[n]]==true\n",
    "                    push!(new_index_i,inew)\n",
    "                    push!(new_index_j,index_j[n])\n",
    "                    red_bool[inew,index_j[n]]=false\n",
    "                    arreglo[inew,index_j[n]]=colorB\n",
    "                    test=true\n",
    "                end\n",
    "                if arreglo[inew,index_j[n]]==colorB && red_bool[inew,index_j[n]]==true\n",
    "                    push!(new_index_i,inew)\n",
    "                    push!(new_index_j,index_j[n])\n",
    "                    red_bool[inew,index_j[n]]=false\n",
    "                    arreglo[inew,index_j[n]]=colorA\n",
    "                    test=true\n",
    "                end\n",
    "                if arreglo[index_i[n],jnew]==colorA && red_bool[index_i[n],jnew]==true\n",
    "                    push!(new_index_i,index_i[n])\n",
    "                    push!(new_index_j,jnew)\n",
    "                    red_bool[index_i[n],jnew]=false\n",
    "                    arreglo[index_i[n],jnew]=colorB\n",
    "                    test=true\n",
    "                end\n",
    "                if arreglo[index_i[n],jnew]==colorB && red_bool[index_i[n],jnew]==true\n",
    "                    push!(new_index_i,index_i[n])\n",
    "                    push!(new_index_j,jnew)\n",
    "                    red_bool[index_i[n],jnew]=false\n",
    "                    arreglo[index_i[n],jnew]=colorA\n",
    "                    test=true\n",
    "                end\n",
    "            end\n",
    "            \n",
    "            for ij in 1:4\n",
    "                segundo=segundos_vecinos(arreglo,index_i[n],index_j[n])[ij]\n",
    "                ii_new=indices_segundos(ij,index_i[n],index_j[n],L1,L2)[1]\n",
    "                jj_new=indices_segundos(ij,index_i[n],index_j[n],L1,L2)[2]\n",
    "                if segundo !=arreglo[index_i[n],index_j[n]] && segundo !=colorC && red_bool[ii_new,jj_new]==true\n",
    "                    if rand()<P_add\n",
    "                    #println(\"aceptó\")\n",
    "                        push!(new_index_i,ii_new)\n",
    "                        push!(new_index_j,jj_new)\n",
    "                        red_bool[ii_new,jj_new]=false\n",
    "                        if arreglo[index_i[n],index_j[n]]==colorA\n",
    "                                arreglo[ii_new,jj_new]=colorA\n",
    "                        else\n",
    "                                arreglo[ii_new,jj_new]=colorB\n",
    "                        end\n",
    "                        test=true\n",
    "                    end\n",
    "                end\n",
    "            end\n",
    "        end\n",
    "        index_i=deepcopy(new_index_i)\n",
    "        index_j=deepcopy(new_index_j)\n",
    "        if test==false\n",
    "            t=t_limit\n",
    "        end\n",
    "        test=false\n",
    "    end\n",
    "    return arreglo,red_bool\n",
    "end"
   ]
  },
  {
   "cell_type": "code",
   "execution_count": 15,
   "metadata": {
    "collapsed": false
   },
   "outputs": [
    {
     "data": {
      "text/plain": [
       "MultiCluster_E (generic function with 2 methods)"
      ]
     },
     "execution_count": 15,
     "metadata": {},
     "output_type": "execute_result"
    }
   ],
   "source": [
    "function MultiCluster_E(β,arreglo,ϵ=1.0)\n",
    "    L2=length(arreglo[1,:])\n",
    "    L1=length(arreglo[:,1])\n",
    "    red_bool=trues(L1,L2)\n",
    "    #Se escoge al azar dos colores\n",
    "    colorA=rand(0:2)\n",
    "    colorB=mod(rand(colorA+1:colorA+2),3)\n",
    "    colorC=3-(colorA+colorB)\n",
    "    for i in 1:L1\n",
    "        for j in 1:L2\n",
    "            if red_bool[i,j]==true\n",
    "                if arreglo[i,j]==colorA || arreglo[i,j]==colorB\n",
    "                    arreglo,red_bool_dummy=SingleCluster_E(β,arreglo,red_bool,i,j,colorA,colorB,colorC)\n",
    "                    Update!(red_bool,red_bool_dummy)\n",
    "                end\n",
    "            end\n",
    "        end\n",
    "    end\n",
    "    return arreglo\n",
    "end"
   ]
  },
  {
   "cell_type": "code",
   "execution_count": 16,
   "metadata": {
    "collapsed": false
   },
   "outputs": [
    {
     "data": {
<<<<<<< HEAD
      "image/png": [
       "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"
      ],
=======
      "image/png": "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",
>>>>>>> upstream/master
      "text/plain": [
       "Figure(PyObject <matplotlib.figure.Figure object at 0x7fc4a6779c50>)"
      ]
     },
     "metadata": {},
     "output_type": "display_data"
    },
    {
     "data": {
      "text/plain": [
       "PyObject <matplotlib.collections.QuadMesh object at 0x7fc4ab346550>"
      ]
     },
     "execution_count": 16,
     "metadata": {},
     "output_type": "execute_result"
    }
   ],
   "source": [
    "inicial=conf_i(20,20)\n",
    "old=copy(inicial)\n",
    "for t in 1:100\n",
    "    new=MultiCluster_E(1000.0,old)\n",
    "    new,old=old,new\n",
    "end\n",
    "figure(figsize=[8,6])\n",
    "subplot(1,2,1)\n",
    "#figure(figsize=[3,3])\n",
    "pcolormesh(inicial)\n",
    "\n",
    "subplot(1,2,2)\n",
    "pcolormesh(old)"
   ]
  },
  {
   "cell_type": "code",
   "execution_count": 134,
   "metadata": {
    "collapsed": false
   },
   "outputs": [
    {
     "data": {
      "text/plain": [
       "100.0"
      ]
     },
     "execution_count": 134,
     "metadata": {},
     "output_type": "execute_result"
    }
   ],
   "source": [
    "contador_segundos(inicial)"
   ]
  },
  {
   "cell_type": "code",
   "execution_count": 135,
   "metadata": {
    "collapsed": false
   },
   "outputs": [
    {
     "data": {
      "text/plain": [
       "100.0"
      ]
     },
     "execution_count": 135,
     "metadata": {},
     "output_type": "execute_result"
    }
   ],
   "source": [
    "contador_segundos(old)"
   ]
  },
  {
   "cell_type": "code",
   "execution_count": 133,
   "metadata": {
    "collapsed": false
   },
   "outputs": [],
   "source": [
    "#             der=mod1(index_i[n]+1,L1)\n",
    "#             aba=mod1(index_j[n]-1,L2)\n",
    "#             izq=mod1(index_i[n]-1,L1)\n",
    "#             arr=mod1(index_j[n]+1,L2)\n",
    "            #Los otros segundos vecinos\n",
    "#             if arreglo[der,aba]!=arreglo[index_i[n],index_j[n]] && arreglo[der,aba]!=colorC && #\n",
    "#            red_bool[der,aba]==true\n",
    "#                 if rand()<P_add\n",
    "#                     #println(\"aceptó\")\n",
    "#                     push!(new_index_i,der)\n",
    "#                     push!(new_index_j,aba)\n",
    "#                     red_bool[der,aba]=false\n",
    "#                     if arreglo[index_i[n],index_j[n]]==colorA\n",
    "#                         arreglo[der,aba]=colorA\n",
    "#                     else\n",
    "#                         arreglo[der,aba]=colorB\n",
    "#                     end\n",
    "#                 end\n",
    "#                 test=true\n",
    "#             end"
   ]
  },
  {
   "cell_type": "code",
   "execution_count": null,
   "metadata": {
    "collapsed": true
   },
   "outputs": [],
   "source": []
  }
 ],
 "metadata": {
  "kernelspec": {
   "display_name": "Julia 0.4.0-dev",
   "language": "julia",
   "name": "julia 0.4"
  },
  "language_info": {
   "name": "julia",
   "version": "0.4.0"
  }
 },
 "nbformat": 4,
 "nbformat_minor": 0
}
