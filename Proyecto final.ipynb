{
 "cells": [
  {
   "cell_type": "markdown",
   "metadata": {},
   "source": [
    "# Proyecto Final: Modelos de Hielo\n",
    "\n",
    "Luis Alemán\n",
    "\\\\ Jorge Ramírez"
   ]
  },
  {
   "cell_type": "markdown",
   "metadata": {},
   "source": [
    "Las siguientes funciones son para implementar el método de los tres colores."
   ]
  },
  {
   "cell_type": "code",
   "execution_count": 2,
   "metadata": {
    "collapsed": false
   },
   "outputs": [
    {
     "name": "stderr",
     "output_type": "stream",
     "text": [
      "INFO: Loading help data...\n"
     ]
    }
   ],
   "source": [
    "using PyPlot"
   ]
  },
  {
   "cell_type": "code",
   "execution_count": 47,
   "metadata": {
    "collapsed": false
   },
   "outputs": [
    {
     "data": {
      "text/html": [
       "<script charset=\"utf-8\">(function ($, undefined) {\n",
       "\n",
       "    function createElem(tag, attr, content) {\n",
       "\t// TODO: remove jQuery dependency\n",
       "\tvar el = $(\"<\" + tag + \"/>\").attr(attr);\n",
       "\tif (content) {\n",
       "\t    el.append(content);\n",
       "\t}\n",
       "\treturn el[0];\n",
       "    }\n",
       "\n",
       "    // A widget must expose an id field which identifies it to the backend,\n",
       "    // an elem attribute which is will be added to the DOM, and\n",
       "    // a getState() method which returns the value to be sent to the backend\n",
       "    // a sendUpdate() method which sends its current value to the backend\n",
       "    var Widget = {\n",
       "\tid: undefined,\n",
       "\telem: undefined,\n",
       "\tlabel: undefined,\n",
       "\tgetState: function () {\n",
       "\t    return this.elem.value;\n",
       "\t},\n",
       "\tsendUpdate: undefined\n",
       "    };\n",
       "\n",
       "    var Slider = function (typ, id, init) {\n",
       "\tvar attr = { type:  \"range\",\n",
       "\t\t     value: init.value,\n",
       "\t\t     min:   init.min,\n",
       "\t\t     max:   init.max,\n",
       "\t\t     step:  init.step },\n",
       "\t    elem = createElem(\"input\", attr),\n",
       "\t    self = this;\n",
       "\n",
       "\telem.onchange = function () {\n",
       "\t    self.sendUpdate();\n",
       "\t}\n",
       "\n",
       "\tthis.id = id;\n",
       "\tthis.elem = elem;\n",
       "\tthis.label = init.label;\n",
       "\n",
       "\tInputWidgets.commInitializer(this); // Initialize communication\n",
       "    }\n",
       "    Slider.prototype = Widget;\n",
       "\n",
       "    var Checkbox = function (typ, id, init) {\n",
       "\tvar attr = { type: \"checkbox\",\n",
       "\t\t     checked: init.value },\n",
       "\t    elem = createElem(\"input\", attr),\n",
       "\t    self = this;\n",
       "\n",
       "\tthis.getState = function () {\n",
       "\t    return elem.checked;\n",
       "\t}\n",
       "\telem.onchange = function () {\n",
       "\t    self.sendUpdate();\n",
       "\t}\n",
       "\n",
       "\tthis.id = id;\n",
       "\tthis.elem = elem;\n",
       "\tthis.label = init.label;\n",
       "\n",
       "\tInputWidgets.commInitializer(this);\n",
       "    }\n",
       "    Checkbox.prototype = Widget;\n",
       "\n",
       "    var Button = function (typ, id, init) {\n",
       "\tvar attr = { type:    \"button\",\n",
       "\t\t     value:   init.label },\n",
       "\t    elem = createElem(\"input\", attr),\n",
       "\t    self = this;\n",
       "\tthis.getState = function () {\n",
       "\t    return null;\n",
       "\t}\n",
       "\telem.onclick = function () {\n",
       "\t    self.sendUpdate();\n",
       "\t}\n",
       "\n",
       "\tthis.id = id;\n",
       "\tthis.elem = elem;\n",
       "\tthis.label = init.label;\n",
       "\n",
       "\tInputWidgets.commInitializer(this);\n",
       "    }\n",
       "    Button.prototype = Widget;\n",
       "\n",
       "    var Text = function (typ, id, init) {\n",
       "\tvar attr = { type:  \"text\",\n",
       "\t\t     placeholder: init.label,\n",
       "\t\t     value: init.value },\n",
       "\t    elem = createElem(\"input\", attr),\n",
       "\t    self = this;\n",
       "\tthis.getState = function () {\n",
       "\t    return elem.value;\n",
       "\t}\n",
       "\telem.onkeyup = function () {\n",
       "\t    self.sendUpdate();\n",
       "\t}\n",
       "\n",
       "\tthis.id = id;\n",
       "\tthis.elem = elem;\n",
       "\tthis.label = init.label;\n",
       "\n",
       "\tInputWidgets.commInitializer(this);\n",
       "    }\n",
       "    Text.prototype = Widget;\n",
       "\n",
       "    var Textarea = function (typ, id, init) {\n",
       "\tvar attr = { placeholder: init.label },\n",
       "\t    elem = createElem(\"textarea\", attr, init.value),\n",
       "\t    self = this;\n",
       "\tthis.getState = function () {\n",
       "\t    return elem.value;\n",
       "\t}\n",
       "\telem.onchange = function () {\n",
       "\t    self.sendUpdate();\n",
       "\t}\n",
       "\n",
       "\tthis.id = id;\n",
       "\tthis.elem = elem;\n",
       "\tthis.label = init.label;\n",
       "\n",
       "\tInputWidgets.commInitializer(this);\n",
       "    }\n",
       "    Textarea.prototype = Widget;\n",
       "\n",
       "    // RadioButtons\n",
       "    // Dropdown\n",
       "    // HTML\n",
       "    // Latex\n",
       "\n",
       "    var InputWidgets = {\n",
       "\tSlider: Slider,\n",
       "\tCheckbox: Checkbox,\n",
       "\tButton: Button,\n",
       "\tText: Text,\n",
       "\tTextarea: Textarea,\n",
       "\tdebug: false,\n",
       "\tlog: function () {\n",
       "\t    if (InputWidgets.debug) {\n",
       "\t\tconsole.log.apply(console, arguments);\n",
       "\t    }\n",
       "\t},\n",
       "\t// a central way to initalize communication\n",
       "\t// for widgets.\n",
       "\tcommInitializer: function (widget) {\n",
       "\t    widget.sendUpdate = function () {};\n",
       "\t}\n",
       "    };\n",
       "\n",
       "    window.InputWidgets = InputWidgets;\n",
       "\n",
       "})(jQuery, undefined);\n",
       "</script>"
      ]
     },
     "metadata": {},
     "output_type": "display_data"
    },
    {
     "data": {
      "text/html": [
       "<script charset=\"utf-8\">(function (IPython, $, _, MathJax, Widgets) {\n",
       "    $.event.special.destroyed = {\n",
       "\tremove: function(o) {\n",
       "\t    if (o.handler) {\n",
       "\t\to.handler.apply(this, arguments)\n",
       "\t    }\n",
       "\t}\n",
       "    }\n",
       "\n",
       "    var redrawValue = function (container, type, val) {\n",
       "\tvar selector = $(\"<div/>\");\n",
       "\tvar oa = new IPython.OutputArea(_.extend(selector, {\n",
       "\t    selector: selector,\n",
       "\t    prompt_area: true,\n",
       "\t    events: IPython.events,\n",
       "\t    keyboard_manager: IPython.keyboard_manager\n",
       "\t})); // Hack to work with IPython 2.1.0\n",
       "\n",
       "\tswitch (type) {\n",
       "\tcase \"image/png\":\n",
       "            var _src = 'data:' + type + ';base64,' + val;\n",
       "\t    $(container).find(\"img\").attr('src', _src);\n",
       "\t    break;\n",
       "\tdefault:\n",
       "\t    var toinsert = IPython.OutputArea.append_map[type].apply(\n",
       "\t\toa, [val, {}, selector]\n",
       "\t    );\n",
       "\t    $(container).empty().append(toinsert.contents());\n",
       "\t    selector.remove();\n",
       "\t}\n",
       "\tif (type === \"text/latex\" && MathJax) {\n",
       "\t    MathJax.Hub.Queue([\"Typeset\", MathJax.Hub, toinsert.get(0)]);\n",
       "\t}\n",
       "    }\n",
       "\n",
       "\n",
       "    $(document).ready(function() {\n",
       "\tWidgets.debug = false; // log messages etc in console.\n",
       "\tfunction initComm(evt, data) {\n",
       "\t    var comm_manager = data.kernel.comm_manager;\n",
       "\t    comm_manager.register_target(\"Signal\", function (comm) {\n",
       "\t\tcomm.on_msg(function (msg) {\n",
       "\t\t    //Widgets.log(\"message received\", msg);\n",
       "\t\t    var val = msg.content.data.value;\n",
       "\t\t    $(\".signal-\" + comm.comm_id).each(function() {\n",
       "\t\t\tvar type = $(this).data(\"type\");\n",
       "\t\t\tif (val[type]) {\n",
       "\t\t\t    redrawValue(this, type, val[type], type);\n",
       "\t\t\t}\n",
       "\t\t    });\n",
       "\t\t    delete val;\n",
       "\t\t    delete msg.content.data.value;\n",
       "\t\t});\n",
       "\t    });\n",
       "\n",
       "\t    // coordingate with Comm and redraw Signals\n",
       "\t    // XXX: Test using Reactive here to improve performance\n",
       "\t    $([IPython.events]).on(\n",
       "\t\t'output_appended.OutputArea', function (event, type, value, md, toinsert) {\n",
       "\t\t    if (md && md.reactive) {\n",
       "\t\t\t// console.log(md.comm_id);\n",
       "\t\t\ttoinsert.addClass(\"signal-\" + md.comm_id);\n",
       "\t\t\ttoinsert.data(\"type\", type);\n",
       "\t\t\t// Signal back indicating the mimetype required\n",
       "\t\t\tvar comm_manager = IPython.notebook.kernel.comm_manager;\n",
       "\t\t\tvar comm = comm_manager.comms[md.comm_id];\n",
       "\t\t\tcomm.send({action: \"subscribe_mime\",\n",
       "\t\t\t\t   mime: type});\n",
       "\t\t\ttoinsert.bind(\"destroyed\", function() {\n",
       "\t\t\t    comm.send({action: \"unsubscribe_mime\",\n",
       "\t\t\t\t       mime: type});\n",
       "\t\t\t});\n",
       "\t\t    }\n",
       "\t    });\n",
       "\n",
       "\t    // Set up communication for Widgets\n",
       "\t    Widgets.commInitializer = function (widget) {\n",
       "\t\tvar comm = comm_manager.new_comm(\n",
       "\t\t    \"InputWidget\", {widget_id: widget.id}\n",
       "\t\t);\n",
       "\t\twidget.sendUpdate = function () {\n",
       "\t\t    // `this` is a widget here.\n",
       "\t\t    // TODO: I have a feeling there's some\n",
       "\t\t    //       IPython bookkeeping to be done here.\n",
       "\t\t    // Widgets.log(\"State changed\", this, this.getState());\n",
       "\t\t    comm.send({value: this.getState()});\n",
       "\t\t}\n",
       "\t    };\n",
       "\t}\n",
       "\n",
       "\ttry {\n",
       "\t    // try to initialize right away. otherwise, wait on the status_started event.\n",
       "\t    initComm(undefined, IPython.notebook);\n",
       "\t} catch (e) {\n",
       "\t    $([IPython.events]).on('status_started.Kernel', initComm);\n",
       "\t}\n",
       "    });\n",
       "})(IPython, jQuery, _, MathJax, InputWidgets);\n",
       "</script>"
      ]
     },
     "metadata": {},
     "output_type": "display_data"
    }
   ],
   "source": [
    "using Interact"
   ]
  },
  {
   "cell_type": "markdown",
   "metadata": {},
   "source": [
    "La función conf_i genera una configuración inicial que cumple con las reglas del hielo, es decir, no hay colores repetidos a primeros vecinos. Como nuestro algoritmo es ergódico, desde ésta configuración \"cíclica\" se puede llegar a cualquier otra configuración que cumpla con las reglas del hielo."
   ]
  },
  {
   "cell_type": "code",
   "execution_count": 3,
   "metadata": {
    "collapsed": false
   },
   "outputs": [
    {
     "data": {
      "text/plain": [
       "conf_i (generic function with 1 method)"
      ]
     },
     "execution_count": 3,
     "metadata": {},
     "output_type": "execute_result"
    }
   ],
   "source": [
    "function conf_i(n::Int,m::Int)\n",
    "    out=zeros(n,n)\n",
    "    out[1,1]=rand(0:2)\n",
    "    for i in 1:n-1\n",
    "        for j in 1:n-1\n",
    "            out[i,j+1]=mod(out[i,j]+1,3)\n",
    "        end\n",
    "        out[i+1,:]=mod(out[i,:]+1,3)\n",
    "    end\n",
    "    \n",
    "    #cuando n es 1 mod 3, hay problemas con las reglas de hielo\n",
    "    if mod(n,3)==1\n",
    "        out[:,n]=mod(out[:,1]+1,3)\n",
    "        out[n,:]=mod(out[1,:]+1,3)\n",
    "        out[n,n]=mod(out[1,1]+2,3)\n",
    "    end\n",
    "    out\n",
    "end"
   ]
  },
  {
   "cell_type": "code",
   "execution_count": 28,
   "metadata": {
    "collapsed": false
   },
   "outputs": [
    {
     "data": {
      "text/plain": [
       "Single_cluster (generic function with 2 methods)"
      ]
     },
     "execution_count": 28,
     "metadata": {},
     "output_type": "execute_result"
    }
   ],
   "source": [
    "function Single_cluster(arreglo::Array{Float64,2})\n",
    "    L2=length(arreglo[1,:])\n",
    "    L1=length(arreglo[:,1])\n",
    "    red_bool=trues(L1,L2)\n",
    "    #Se escoge un cuadrado al azar entre toda la red, y su número es escogido como 'colorA'\n",
    "    i=rand(1:L1)\n",
    "    j=rand(1:L2)\n",
    "    colorA=arreglo[i,j]\n",
    "    #Se escoge al azar un 'colorB' entre los restantes\n",
    "    colorB=mod(rand(colorA+1:colorA+2),3)\n",
    "    index_i=[i]\n",
    "    index_j=[j]\n",
    "    #Cambio el color de la celda inicial\n",
    "    arreglo[i,j]=colorB\n",
    "    red_bool[i,j]=false\n",
    "    test=false\n",
    "    t_limit=L1*2\n",
    "    t=1\n",
    "    while t<t_limit\n",
    "        new_index_i=Int[]\n",
    "        new_index_j=Int[]\n",
    "        for n=1:length(index_i)\n",
    "            for ii=0:1\n",
    "                inew=mod1(index_i[n]+ii*2-1,L1)\n",
    "                jnew=mod1(index_j[n]+ii*2-1,L2)\n",
    "                if arreglo[inew,index_j[n]]==colorA && red_bool[inew,index_j[n]]==true\n",
    "                    push!(new_index_i,inew)\n",
    "                    push!(new_index_j,index_j[n])\n",
    "                    red_bool[inew,index_j[n]]=false\n",
    "                    arreglo[inew,index_j[n]]=colorB\n",
    "                    test=true\n",
    "                end\n",
    "                if arreglo[inew,index_j[n]]==colorB && red_bool[inew,index_j[n]]==true\n",
    "                    push!(new_index_i,inew)\n",
    "                    push!(new_index_j,index_j[n])\n",
    "                    red_bool[inew,index_j[n]]=false\n",
    "                    arreglo[inew,index_j[n]]=colorA\n",
    "                    test=true\n",
    "                end\n",
    "                if arreglo[index_i[n],jnew]==colorA && red_bool[index_i[n],jnew]==true\n",
    "                    push!(new_index_i,index_i[n])\n",
    "                    push!(new_index_j,jnew)\n",
    "                    red_bool[index_i[n],jnew]=false\n",
    "                    arreglo[index_i[n],jnew]=colorB\n",
    "                    test=true\n",
    "                end\n",
    "                if arreglo[index_i[n],jnew]==colorB && red_bool[index_i[n],jnew]==true\n",
    "                    push!(new_index_i,index_i[n])\n",
    "                    push!(new_index_j,jnew)\n",
    "                    red_bool[index_i[n],jnew]=false\n",
    "                    arreglo[index_i[n],jnew]=colorA\n",
    "                    test=true\n",
    "                end\n",
    "            end\n",
    "        end\n",
    "        index_i=deepcopy(new_index_i)\n",
    "        index_j=deepcopy(new_index_j)\n",
    "        if test==false\n",
    "            #println(\"there are no more squares to add\")\n",
    "            t=t_limit\n",
    "        end\n",
    "        test=false\n",
    "    end\n",
    "    return arreglo\n",
    "end"
   ]
  },
  {
   "cell_type": "code",
   "execution_count": 5,
   "metadata": {
    "collapsed": false,
    "scrolled": true
   },
   "outputs": [
    {
     "data": {
      "image/png": "[encoded data removed]",
      "text/plain": [
       "Figure(PyObject <matplotlib.figure.Figure object at 0x7f0667bb1210>)"
      ]
     },
     "metadata": {},
     "output_type": "display_data"
    },
    {
     "data": {
      "text/plain": [
       "PyObject <matplotlib.collections.QuadMesh object at 0x7f066b1f4b90>"
      ]
     },
     "execution_count": 5,
     "metadata": {},
     "output_type": "execute_result"
    }
   ],
   "source": [
    "hey=conf_i(5,5)\n",
    "fig=figure(figsize=[3,3])\n",
    "pcolormesh(hey)"
   ]
  },
  {
   "cell_type": "code",
   "execution_count": 19,
   "metadata": {
    "collapsed": false
   },
   "outputs": [
    {
     "data": {
      "text/plain": [
       "SingleCluster (generic function with 1 method)"
      ]
     },
     "execution_count": 19,
     "metadata": {},
     "output_type": "execute_result"
    }
   ],
   "source": [
    "function SingleCluster(arreglo::Array{Float64,2},i,j,colorA, colorB)\n",
    "    L2=length(arreglo[1,:])\n",
    "    L1=length(arreglo[:,1])\n",
    "    red_bool=trues(L1,L2)\n",
    "    arreglo_old=deepcopy(arreglo)\n",
    "    arreglo[i,j]=colorB\n",
    "    index_i=[i]\n",
    "    index_j=[j]\n",
    "    red_bool[i,j]=false\n",
    "    test=false\n",
    "    t_limit=max(L1,L2)\n",
    "    t=1\n",
    "    while t<t_limit\n",
    "        new_index_i=Int[]\n",
    "        new_index_j=Int[]\n",
    "        for n=1:length(index_i)\n",
    "            for ii=0:1\n",
    "                inew=mod1(index_i[n]+ii*2-1,L1)\n",
    "                jnew=mod1(index_j[n]+ii*2-1,L2)\n",
    "                if arreglo[inew,index_j[n]]==colorA && red_bool[inew,index_j[n]]==true\n",
    "                    push!(new_index_i,inew)\n",
    "                    push!(new_index_j,index_j[n])\n",
    "                    red_bool[inew,index_j[n]]=false\n",
    "                    arreglo[inew,index_j[n]]=colorB\n",
    "                    test=true\n",
    "                end\n",
    "                if arreglo[inew,index_j[n]]==colorB && red_bool[inew,index_j[n]]==true\n",
    "                    push!(new_index_i,inew)\n",
    "                    push!(new_index_j,index_j[n])\n",
    "                    red_bool[inew,index_j[n]]=false\n",
    "                    arreglo[inew,index_j[n]]=colorA\n",
    "                    test=true\n",
    "                end\n",
    "                if arreglo[index_i[n],jnew]==colorA && red_bool[index_i[n],jnew]==true\n",
    "                    push!(new_index_i,index_i[n])\n",
    "                    push!(new_index_j,jnew)\n",
    "                    red_bool[index_i[n],jnew]=false\n",
    "                    arreglo[index_i[n],jnew]=colorB\n",
    "                    test=true\n",
    "                end\n",
    "                if arreglo[index_i[n],jnew]==colorB && red_bool[index_i[n],jnew]==true\n",
    "                    push!(new_index_i,index_i[n])\n",
    "                    push!(new_index_j,jnew)\n",
    "                    red_bool[index_i[n],jnew]=false\n",
    "                    arreglo[index_i[n],jnew]=colorA\n",
    "                    test=true\n",
    "                end\n",
    "            end\n",
    "        end\n",
    "        index_i=deepcopy(new_index_i)\n",
    "        index_j=deepcopy(new_index_j)\n",
    "        if test==false\n",
    "            t=t_limit\n",
    "        end\n",
    "        test=false\n",
    "    end\n",
    "    #Se escoge con 50% si se cambian o no los colores de este nuevo cluster \n",
    "    if rand()<0.5\n",
    "        #println(\":C\")\n",
    "        return arreglo_old,red_bool\n",
    "    else\n",
    "        return arreglo,red_bool\n",
    "    end\n",
    "end"
   ]
  },
  {
   "cell_type": "code",
   "execution_count": 7,
   "metadata": {
    "collapsed": false
   },
   "outputs": [
    {
     "data": {
      "text/plain": [
       "Update (generic function with 1 method)"
      ]
     },
     "execution_count": 7,
     "metadata": {},
     "output_type": "execute_result"
    }
   ],
   "source": [
    "function Update(red_bool,red_bool_dummy)\n",
    "    L2=length(red_bool[1,:])\n",
    "    L1=length(red_bool[:,1])\n",
    "    for i in 1:L1\n",
    "        for j in 1:L2\n",
    "            if red_bool_dummy[i,j]==false\n",
    "                red_bool[i,j]=red_bool_dummy[i,j]\n",
    "            end\n",
    "        end\n",
    "    end\n",
    "    return red_bool\n",
    "end"
   ]
  },
  {
   "cell_type": "code",
   "execution_count": 8,
   "metadata": {
    "collapsed": false
   },
   "outputs": [
    {
     "data": {
      "text/plain": [
       "MultiCluster (generic function with 1 method)"
      ]
     },
     "execution_count": 8,
     "metadata": {},
     "output_type": "execute_result"
    }
   ],
   "source": [
    "function MultiCluster(arreglo)\n",
    "    L2=length(arreglo[1,:])\n",
    "    L1=length(arreglo[:,1])\n",
    "    red_bool=trues(L1,L2)\n",
    "    #Se escoge al azar dos colores\n",
    "    colorA=rand(0:2)\n",
    "    colorB=mod(rand(colorA+1:colorA+2),3)\n",
    "    for i in 1:L1\n",
    "        for j in 1:L2\n",
    "            if red_bool[i,j]==true\n",
    "                if arreglo[i,j]==colorA || arreglo[i,j]==colorB\n",
    "                    arreglo,red_bool_dummy=SingleCluster(arreglo,i,j,colorA,colorB)\n",
    "                    red_bool=Update(red_bool,red_bool_dummy)\n",
    "                end\n",
    "            end\n",
    "        end\n",
    "    end\n",
    "    return arreglo\n",
    "end"
   ]
  },
  {
   "cell_type": "code",
   "execution_count": 30,
   "metadata": {
    "collapsed": false
   },
   "outputs": [
    {
     "data": {
      "image/png": "[encoded data removed]",
      "text/plain": [
       "Figure(PyObject <matplotlib.figure.Figure object at 0x7f064c840c90>)"
      ]
     },
     "metadata": {},
     "output_type": "display_data"
    },
    {
     "data": {
      "text/plain": [
       "PyObject <matplotlib.collections.QuadMesh object at 0x7f064c6dee90>"
      ]
     },
     "execution_count": 30,
     "metadata": {},
     "output_type": "execute_result"
    }
   ],
   "source": [
    "hey_old=conf_i(10,10)\n",
    "for t in 1:100\n",
    "    hey_new=Single_cluster(hey_old)\n",
    "    hey_new,hey_old=hey_old,hey_new\n",
    "end\n",
    "figure(figsize=[8,6])\n",
    "subplot(1,2,1)\n",
    "#figure(figsize=[3,3])\n",
    "pcolormesh(hey)\n",
    "\n",
    "subplot(1,2,2)\n",
    "pcolormesh(hey_old)"
   ]
  },
  {
   "cell_type": "code",
   "execution_count": null,
   "metadata": {
    "collapsed": true
   },
   "outputs": [],
   "source": []
  }
 ],
 "metadata": {
  "kernelspec": {
   "display_name": "Julia 0.3.5",
   "language": "julia",
   "name": "julia 0.3"
  },
  "language_info": {
   "name": "julia",
   "version": "0.3.5"
  }
 },
 "nbformat": 4,
 "nbformat_minor": 0
}
