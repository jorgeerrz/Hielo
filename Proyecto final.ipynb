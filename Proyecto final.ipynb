{
 "cells": [
  {
   "cell_type": "markdown",
   "metadata": {},
   "source": [
    "# Proyecto Final: Modelos de Hielo\n",
    "\n",
    "Luis Alemán\n",
    "\\\\ Jorge Ramírez"
   ]
  },
  {
   "cell_type": "markdown",
   "metadata": {},
   "source": [
    "Las siguientes funciones son para implementar el método de los tres colores."
   ]
  },
  {
   "cell_type": "code",
   "execution_count": 1,
   "metadata": {
    "collapsed": true
   },
   "outputs": [],
   "source": [
    "using PyPlot"
   ]
  },
  {
   "cell_type": "code",
   "execution_count": 2,
   "metadata": {
    "collapsed": false
   },
   "outputs": [
    {
     "data": {
      "text/html": [
       "<script charset=\"utf-8\">(function ($, undefined) {\n",
       "\n",
       "    function createElem(tag, attr, content) {\n",
       "\t// TODO: remove jQuery dependency\n",
       "\tvar el = $(\"<\" + tag + \"/>\").attr(attr);\n",
       "\tif (content) {\n",
       "\t    el.append(content);\n",
       "\t}\n",
       "\treturn el[0];\n",
       "    }\n",
       "\n",
       "    // A widget must expose an id field which identifies it to the backend,\n",
       "    // an elem attribute which is will be added to the DOM, and\n",
       "    // a getState() method which returns the value to be sent to the backend\n",
       "    // a sendUpdate() method which sends its current value to the backend\n",
       "    var Widget = {\n",
       "\tid: undefined,\n",
       "\telem: undefined,\n",
       "\tlabel: undefined,\n",
       "\tgetState: function () {\n",
       "\t    return this.elem.value;\n",
       "\t},\n",
       "\tsendUpdate: undefined\n",
       "    };\n",
       "\n",
       "    var Slider = function (typ, id, init) {\n",
       "\tvar attr = { type:  \"range\",\n",
       "\t\t     value: init.value,\n",
       "\t\t     min:   init.min,\n",
       "\t\t     max:   init.max,\n",
       "\t\t     step:  init.step },\n",
       "\t    elem = createElem(\"input\", attr),\n",
       "\t    self = this;\n",
       "\n",
       "\telem.onchange = function () {\n",
       "\t    self.sendUpdate();\n",
       "\t}\n",
       "\n",
       "\tthis.id = id;\n",
       "\tthis.elem = elem;\n",
       "\tthis.label = init.label;\n",
       "\n",
       "\tInputWidgets.commInitializer(this); // Initialize communication\n",
       "    }\n",
       "    Slider.prototype = Widget;\n",
       "\n",
       "    var Checkbox = function (typ, id, init) {\n",
       "\tvar attr = { type: \"checkbox\",\n",
       "\t\t     checked: init.value },\n",
       "\t    elem = createElem(\"input\", attr),\n",
       "\t    self = this;\n",
       "\n",
       "\tthis.getState = function () {\n",
       "\t    return elem.checked;\n",
       "\t}\n",
       "\telem.onchange = function () {\n",
       "\t    self.sendUpdate();\n",
       "\t}\n",
       "\n",
       "\tthis.id = id;\n",
       "\tthis.elem = elem;\n",
       "\tthis.label = init.label;\n",
       "\n",
       "\tInputWidgets.commInitializer(this);\n",
       "    }\n",
       "    Checkbox.prototype = Widget;\n",
       "\n",
       "    var Button = function (typ, id, init) {\n",
       "\tvar attr = { type:    \"button\",\n",
       "\t\t     value:   init.label },\n",
       "\t    elem = createElem(\"input\", attr),\n",
       "\t    self = this;\n",
       "\tthis.getState = function () {\n",
       "\t    return null;\n",
       "\t}\n",
       "\telem.onclick = function () {\n",
       "\t    self.sendUpdate();\n",
       "\t}\n",
       "\n",
       "\tthis.id = id;\n",
       "\tthis.elem = elem;\n",
       "\tthis.label = init.label;\n",
       "\n",
       "\tInputWidgets.commInitializer(this);\n",
       "    }\n",
       "    Button.prototype = Widget;\n",
       "\n",
       "    var Text = function (typ, id, init) {\n",
       "\tvar attr = { type:  \"text\",\n",
       "\t\t     placeholder: init.label,\n",
       "\t\t     value: init.value },\n",
       "\t    elem = createElem(\"input\", attr),\n",
       "\t    self = this;\n",
       "\tthis.getState = function () {\n",
       "\t    return elem.value;\n",
       "\t}\n",
       "\telem.onkeyup = function () {\n",
       "\t    self.sendUpdate();\n",
       "\t}\n",
       "\n",
       "\tthis.id = id;\n",
       "\tthis.elem = elem;\n",
       "\tthis.label = init.label;\n",
       "\n",
       "\tInputWidgets.commInitializer(this);\n",
       "    }\n",
       "    Text.prototype = Widget;\n",
       "\n",
       "    var Textarea = function (typ, id, init) {\n",
       "\tvar attr = { placeholder: init.label },\n",
       "\t    elem = createElem(\"textarea\", attr, init.value),\n",
       "\t    self = this;\n",
       "\tthis.getState = function () {\n",
       "\t    return elem.value;\n",
       "\t}\n",
       "\telem.onchange = function () {\n",
       "\t    self.sendUpdate();\n",
       "\t}\n",
       "\n",
       "\tthis.id = id;\n",
       "\tthis.elem = elem;\n",
       "\tthis.label = init.label;\n",
       "\n",
       "\tInputWidgets.commInitializer(this);\n",
       "    }\n",
       "    Textarea.prototype = Widget;\n",
       "\n",
       "    // RadioButtons\n",
       "    // Dropdown\n",
       "    // HTML\n",
       "    // Latex\n",
       "\n",
       "    var InputWidgets = {\n",
       "\tSlider: Slider,\n",
       "\tCheckbox: Checkbox,\n",
       "\tButton: Button,\n",
       "\tText: Text,\n",
       "\tTextarea: Textarea,\n",
       "\tdebug: false,\n",
       "\tlog: function () {\n",
       "\t    if (InputWidgets.debug) {\n",
       "\t\tconsole.log.apply(console, arguments);\n",
       "\t    }\n",
       "\t},\n",
       "\t// a central way to initalize communication\n",
       "\t// for widgets.\n",
       "\tcommInitializer: function (widget) {\n",
       "\t    widget.sendUpdate = function () {};\n",
       "\t}\n",
       "    };\n",
       "\n",
       "    window.InputWidgets = InputWidgets;\n",
       "\n",
       "})(jQuery, undefined);\n",
       "</script>"
      ]
     },
     "metadata": {},
     "output_type": "display_data"
    },
    {
     "data": {
      "text/html": [
       "<script charset=\"utf-8\">(function (IPython, $, _, MathJax, Widgets) {\n",
       "    $.event.special.destroyed = {\n",
       "\tremove: function(o) {\n",
       "\t    if (o.handler) {\n",
       "\t\to.handler.apply(this, arguments)\n",
       "\t    }\n",
       "\t}\n",
       "    }\n",
       "\n",
       "    var redrawValue = function (container, type, val) {\n",
       "\tvar selector = $(\"<div/>\");\n",
       "\tvar oa = new IPython.OutputArea(_.extend(selector, {\n",
       "\t    selector: selector,\n",
       "\t    prompt_area: true,\n",
       "\t    events: IPython.events,\n",
       "\t    keyboard_manager: IPython.keyboard_manager\n",
       "\t})); // Hack to work with IPython 2.1.0\n",
       "\n",
       "\tswitch (type) {\n",
       "\tcase \"image/png\":\n",
       "            var _src = 'data:' + type + ';base64,' + val;\n",
       "\t    $(container).find(\"img\").attr('src', _src);\n",
       "\t    break;\n",
       "\tdefault:\n",
       "\t    var toinsert = IPython.OutputArea.append_map[type].apply(\n",
       "\t\toa, [val, {}, selector]\n",
       "\t    );\n",
       "\t    $(container).empty().append(toinsert.contents());\n",
       "\t    selector.remove();\n",
       "\t}\n",
       "\tif (type === \"text/latex\" && MathJax) {\n",
       "\t    MathJax.Hub.Queue([\"Typeset\", MathJax.Hub, toinsert.get(0)]);\n",
       "\t}\n",
       "    }\n",
       "\n",
       "\n",
       "    $(document).ready(function() {\n",
       "\tWidgets.debug = false; // log messages etc in console.\n",
       "\tfunction initComm(evt, data) {\n",
       "\t    var comm_manager = data.kernel.comm_manager;\n",
       "        //_.extend(comm_manager.targets, require(\"widgets/js/widget\"))\n",
       "\t    comm_manager.register_target(\"Signal\", function (comm) {\n",
       "            comm.on_msg(function (msg) {\n",
       "                //Widgets.log(\"message received\", msg);\n",
       "                var val = msg.content.data.value;\n",
       "                $(\".signal-\" + comm.comm_id).each(function() {\n",
       "                var type = $(this).data(\"type\");\n",
       "                if (val[type]) {\n",
       "                    redrawValue(this, type, val[type], type);\n",
       "                }\n",
       "                });\n",
       "                delete val;\n",
       "                delete msg.content.data.value;\n",
       "            });\n",
       "\t    });\n",
       "\n",
       "\t    // coordingate with Comm and redraw Signals\n",
       "\t    // XXX: Test using Reactive here to improve performance\n",
       "\t    $([IPython.events]).on(\n",
       "\t\t'output_appended.OutputArea', function (event, type, value, md, toinsert) {\n",
       "\t\t    if (md && md.reactive) {\n",
       "                // console.log(md.comm_id);\n",
       "                toinsert.addClass(\"signal-\" + md.comm_id);\n",
       "                toinsert.data(\"type\", type);\n",
       "                // Signal back indicating the mimetype required\n",
       "                var comm_manager = IPython.notebook.kernel.comm_manager;\n",
       "                var comm = comm_manager.comms[md.comm_id];\n",
       "                comm.then(function (c) {\n",
       "                    c.send({action: \"subscribe_mime\",\n",
       "                       mime: type});\n",
       "                    toinsert.bind(\"destroyed\", function() {\n",
       "                        c.send({action: \"unsubscribe_mime\",\n",
       "                               mime: type});\n",
       "                    });\n",
       "                })\n",
       "\t\t    }\n",
       "\t    });\n",
       "\t}\n",
       "\n",
       "\ttry {\n",
       "\t    // try to initialize right away. otherwise, wait on the status_started event.\n",
       "\t    initComm(undefined, IPython.notebook);\n",
       "\t} catch (e) {\n",
       "\t    $([IPython.events]).on('status_started.Kernel', initComm);\n",
       "\t}\n",
       "    });\n",
       "})(IPython, jQuery, _, MathJax, InputWidgets);\n",
       "</script>"
      ]
     },
     "metadata": {},
     "output_type": "display_data"
    }
   ],
   "source": [
    "using Interact"
   ]
  },
  {
   "cell_type": "markdown",
   "metadata": {},
   "source": [
    "La función Red(L1,L2) genera un arreglo de L1 filas con L2 columnas, con entradas 0, 1 ó 2. Esto se hizo para tener la libertad de simular no sólo con arreglos cuadrados."
   ]
  },
  {
   "cell_type": "code",
   "execution_count": 76,
   "metadata": {
    "collapsed": false
   },
   "outputs": [
    {
     "data": {
      "text/plain": [
       "Single_cluster (generic function with 2 methods)"
      ]
     },
     "execution_count": 76,
     "metadata": {},
     "output_type": "execute_result"
    }
   ],
   "source": [
    "function Single_cluster(arreglo::Array{Int,2})\n",
    "    L2=length(arreglo[1,:])\n",
    "    L1=length(arreglo[:,1])\n",
    "    red_bool=trues(L1,L2)\n",
    "    #Se escoge un cuadrado al azar entre toda la red, y su número es escogido como 'colorA'\n",
    "    i=rand(1:L1)\n",
    "    j=rand(1:L2)\n",
    "    colorA=arreglo[i,j]\n",
    "    #Se escoge al azar un 'colorB' entre los restantes\n",
    "    colorB=mod(rand(colorA+1:colorA+2),3)\n",
    "    index_i=[i]\n",
    "    index_j=[j]\n",
    "    #Cambio el color de la celda inicial\n",
    "    arreglo[i,j]=colorB\n",
    "    red_bool[i,j]=false\n",
    "    test=false\n",
    "    t_limit=L1*2\n",
    "    t=1\n",
    "    while t<t_limit\n",
    "        new_index_i=[]\n",
    "        new_index_j=[]\n",
    "        for n=1:length(index_i)\n",
    "            for ii=0:1\n",
    "                inew=mod1(index_i[n]+ii*2-1,L1)\n",
    "                jnew=mod1(index_j[n]+ii*2-1,L2)\n",
    "                if arreglo[inew,index_j[n]]==colorA && red_bool[inew,index_j[n]]==true\n",
    "                    push!(new_index_i,inew)\n",
    "                    push!(new_index_j,index_j[n])\n",
    "                    red_bool[inew,index_j[n]]=false\n",
    "                    arreglo[inew,index_j[n]]=colorB\n",
    "                    test=true\n",
    "                end\n",
    "                if arreglo[inew,index_j[n]]==colorB && red_bool[inew,index_j[n]]==true\n",
    "                    push!(new_index_i,inew)\n",
    "                    push!(new_index_j,index_j[n])\n",
    "                    red_bool[inew,index_j[n]]=false\n",
    "                    arreglo[inew,index_j[n]]=colorA\n",
    "                    test=true\n",
    "                end\n",
    "                if arreglo[index_i[n],jnew]==colorA && red_bool[index_i[n],jnew]==true\n",
    "                    push!(new_index_i,index_i[n])\n",
    "                    push!(new_index_j,jnew)\n",
    "                    red_bool[index_i[n],jnew]=false\n",
    "                    arreglo[index_i[n],jnew]=colorB\n",
    "                    test=true\n",
    "                end\n",
    "                if arreglo[index_i[n],jnew]==colorB && red_bool[index_i[n],jnew]==true\n",
    "                    push!(new_index_i,index_i[n])\n",
    "                    push!(new_index_j,jnew)\n",
    "                    red_bool[index_i[n],jnew]=false\n",
    "                    arreglo[index_i[n],jnew]=colorA\n",
    "                    test=true\n",
    "                end\n",
    "            end\n",
    "        end\n",
    "        index_i=deepcopy(new_index_i)\n",
    "        index_j=deepcopy(new_index_j)\n",
    "        if test==false\n",
    "            println(\"there are no more squares to add\")\n",
    "            t=t_limit\n",
    "        end\n",
    "        test=false\n",
    "    end\n",
    "    return arreglo\n",
    "end"
   ]
  },
  {
   "cell_type": "code",
   "execution_count": 7,
   "metadata": {
    "collapsed": false
   },
   "outputs": [
    {
     "data": {
      "text/plain": [
       "Red (generic function with 1 method)"
      ]
     },
     "execution_count": 7,
     "metadata": {},
     "output_type": "execute_result"
    }
   ],
   "source": [
    "function Red(L1,L2)\n",
    "    arreglo=rand(0:2,L1,L2) \n",
    "end"
   ]
  },
  {
   "cell_type": "code",
   "execution_count": 89,
   "metadata": {
    "collapsed": false,
    "scrolled": true
   },
   "outputs": [
    {
     "name": "stdout",
     "output_type": "stream",
     "text": [
      "there are no more squares to add\n"
     ]
    },
    {
     "data": {
      "image/png": "[encoded data removed]",
      "text/plain": [
       "PyPlot.Figure(PyObject <matplotlib.figure.Figure object at 0x31b96e910>)"
      ]
     },
     "metadata": {},
     "output_type": "display_data"
    },
    {
     "data": {
      "text/plain": [
       "PyObject <matplotlib.collections.QuadMesh object at 0x31b605650>"
      ]
     },
     "execution_count": 89,
     "metadata": {},
     "output_type": "execute_result"
    }
   ],
   "source": [
    "hey=Red(3,3)\n",
    "pcolormesh(hey)"
   ]
  },
  {
   "cell_type": "code",
   "execution_count": 79,
   "metadata": {
    "collapsed": false
   },
   "outputs": [
    {
     "name": "stdout",
     "output_type": "stream",
     "text": [
      "there are no more squares to add\n"
     ]
    },
    {
     "data": {
      "image/png": "[encoded data removed]",
      "text/plain": [
       "PyPlot.Figure(PyObject <matplotlib.figure.Figure object at 0x31bcd3f50>)"
      ]
     },
     "metadata": {},
     "output_type": "display_data"
    },
    {
     "data": {
      "text/plain": [
       "PyObject <matplotlib.collections.QuadMesh object at 0x31b010450>"
      ]
     },
     "execution_count": 79,
     "metadata": {},
     "output_type": "execute_result"
    }
   ],
   "source": [
    "hey=Evolucion(hey)\n",
    "pcolormesh(hey)"
   ]
  },
  {
   "cell_type": "code",
   "execution_count": 1,
   "metadata": {
    "collapsed": false
   },
   "outputs": [
    {
     "data": {
      "text/plain": [
       "SingleCluster (generic function with 1 method)"
      ]
     },
     "execution_count": 1,
     "metadata": {},
     "output_type": "execute_result"
    }
   ],
   "source": [
    "function SingleCluster(arreglo::Array{Int,2},i,j,colorA, colorB)\n",
    "    L2=length(arreglo[1,:])\n",
    "    L1=length(arreglo[:,1])\n",
    "    red_bool=trues(L1,L2)\n",
    "    arreglo_old=deepcopy(arreglo)\n",
    "    arreglo[i,j]=colorB\n",
    "    index_i=[i]\n",
    "    index_j=[j]\n",
    "    red_bool[i,j]=false\n",
    "    test=false\n",
    "    t_limit=max(L1,L2)\n",
    "    t=1\n",
    "    while t<t_limit\n",
    "        new_index_i=[]\n",
    "        new_index_j=[]\n",
    "        for n=1:length(index_i)\n",
    "            for ii=0:1\n",
    "                inew=mod1(index_i[n]+ii*2-1,L1)\n",
    "                jnew=mod1(index_j[n]+ii*2-1,L2)\n",
    "                if arreglo[inew,index_j[n]]==colorA && red_bool[inew,index_j[n]]==true\n",
    "                    push!(new_index_i,inew)\n",
    "                    push!(new_index_j,index_j[n])\n",
    "                    red_bool[inew,index_j[n]]=false\n",
    "                    arreglo[inew,index_j[n]]=colorB\n",
    "                    test=true\n",
    "                end\n",
    "                if arreglo[inew,index_j[n]]==colorB && red_bool[inew,index_j[n]]==true\n",
    "                    push!(new_index_i,inew)\n",
    "                    push!(new_index_j,index_j[n])\n",
    "                    red_bool[inew,index_j[n]]=false\n",
    "                    arreglo[inew,index_j[n]]=colorA\n",
    "                    test=true\n",
    "                end\n",
    "                if arreglo[index_i[n],jnew]==colorA && red_bool[index_i[n],jnew]==true\n",
    "                    push!(new_index_i,index_i[n])\n",
    "                    push!(new_index_j,jnew)\n",
    "                    red_bool[index_i[n],jnew]=false\n",
    "                    arreglo[index_i[n],jnew]=colorB\n",
    "                    test=true\n",
    "                end\n",
    "                if arreglo[index_i[n],jnew]==colorB && red_bool[index_i[n],jnew]==true\n",
    "                    push!(new_index_i,index_i[n])\n",
    "                    push!(new_index_j,jnew)\n",
    "                    red_bool[index_i[n],jnew]=false\n",
    "                    arreglo[index_i[n],jnew]=colorA\n",
    "                    test=true\n",
    "                end\n",
    "            end\n",
    "        end\n",
    "        index_i=deepcopy(new_index_i)\n",
    "        index_j=deepcopy(new_index_j)\n",
    "        if test==false\n",
    "            t=t_limit\n",
    "        end\n",
    "        test=false\n",
    "    end\n",
    "    #Se escoge con 50% si se cambian o no los colores de este nuevo cluster \n",
    "    if rand()<0.5\n",
    "        println(\":C\")\n",
    "        return arreglo_old,red_bool\n",
    "    else\n",
    "        return arreglo,red_bool\n",
    "    end\n",
    "end"
   ]
  },
  {
   "cell_type": "code",
   "execution_count": 2,
   "metadata": {
    "collapsed": false
   },
   "outputs": [
    {
     "data": {
      "text/plain": [
       "Update (generic function with 1 method)"
      ]
     },
     "execution_count": 2,
     "metadata": {},
     "output_type": "execute_result"
    }
   ],
   "source": [
    "function Update(red_bool,red_bool_dummy)\n",
    "    L2=length(red_bool[1,:])\n",
    "    L1=length(red_bool[:,1])\n",
    "    for i in 1:L1\n",
    "        for j in 1:L2\n",
    "            if red_bool_dummy[i,j]==false\n",
    "                red_bool[i,j]=red_bool_dummy[i,j]\n",
    "            end\n",
    "        end\n",
    "    end\n",
    "    return red_bool\n",
    "end"
   ]
  },
  {
   "cell_type": "code",
   "execution_count": 3,
   "metadata": {
    "collapsed": false
   },
   "outputs": [
    {
     "data": {
      "text/plain": [
       "MultiCluster (generic function with 1 method)"
      ]
     },
     "execution_count": 3,
     "metadata": {},
     "output_type": "execute_result"
    }
   ],
   "source": [
    "function MultiCluster(arreglo)\n",
    "    L2=length(arreglo[1,:])\n",
    "    L1=length(arreglo[:,1])\n",
    "    red_bool=trues(L1,L2)\n",
    "    #Se escoge al azar dos colores\n",
    "    colorA=rand(0:2)\n",
    "    colorB=mod(rand(colorA+1:colorA+2),3)\n",
    "    for i in 1:L1\n",
    "        for j in 1:L2\n",
    "            if red_bool[i,j]==true\n",
    "                if arreglo[i,j]==colorA || arreglo[i,j]==colorB\n",
    "                    arreglo,red_bool_dummy=SingleCluster(arreglo,i,j,colorA,colorB)\n",
    "                    red_bool=Update(red_bool,red_bool_dummy)\n",
    "                end\n",
    "            end\n",
    "        end\n",
    "    end\n",
    "    return arreglo\n",
    "end"
   ]
  },
  {
   "cell_type": "code",
   "execution_count": 9,
   "metadata": {
    "collapsed": false
   },
   "outputs": [
    {
     "name": "stdout",
     "output_type": "stream",
     "text": [
      "hey = [1 0 1 0 0\n",
      " 2 1 1 2 2\n",
      " 0 0 2 2 2\n",
      " 0 2 1 0 0\n",
      " 0 2 1 1 1]\n",
      "hwy\n",
      ":C\n"
     ]
    },
    {
     "data": {
      "text/plain": [
       "5x5 Array{Int64,2}:\n",
       " 1  0  1  0  0\n",
       " 2  1  1  2  2\n",
       " 0  0  2  2  2\n",
       " 0  2  1  0  0\n",
       " 0  2  1  1  1"
      ]
     },
     "execution_count": 9,
     "metadata": {},
     "output_type": "execute_result"
    }
   ],
   "source": [
    "hey=Red(5,5)\n",
    "@show hey\n",
    "MultiCluster(hey)"
   ]
  },
  {
   "cell_type": "code",
   "execution_count": 97,
   "metadata": {
    "collapsed": false
   },
   "outputs": [
    {
     "name": "stdout",
     "output_type": "stream",
     "text": [
      "nothing\n"
     ]
    }
   ],
   "source": [
    "println(u)"
   ]
  },
  {
   "cell_type": "code",
   "execution_count": 72,
   "metadata": {
    "collapsed": false
   },
   "outputs": [
    {
     "data": {
      "text/plain": [
       "0.6484512931169182"
      ]
     },
     "execution_count": 72,
     "metadata": {},
     "output_type": "execute_result"
    }
   ],
   "source": [
    "rand()"
   ]
  },
  {
   "cell_type": "code",
   "execution_count": null,
   "metadata": {
    "collapsed": true
   },
   "outputs": [],
   "source": []
  }
 ],
 "metadata": {
  "kernelspec": {
   "display_name": "Julia 0.4.0-dev",
   "language": "julia",
   "name": "julia 0.4"
  },
  "language_info": {
   "name": "julia",
   "version": "0.4.0"
  }
 },
 "nbformat": 4,
 "nbformat_minor": 0
}
