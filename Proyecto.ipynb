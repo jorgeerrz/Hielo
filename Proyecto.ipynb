{
 "cells": [
  {
   "cell_type": "code",
   "execution_count": 30,
   "metadata": {
    "collapsed": false
   },
   "outputs": [
    {
     "data": {
      "text/plain": [
       "1"
      ]
     },
     "execution_count": 30,
     "metadata": {},
     "output_type": "execute_result"
    }
   ],
   "source": [
    "mod1(5,4)"
   ]
  },
  {
   "cell_type": "code",
   "execution_count": 74,
   "metadata": {
    "collapsed": false
   },
   "outputs": [
    {
     "data": {
      "text/plain": [
       "conf_random (generic function with 1 method)"
      ]
     },
     "execution_count": 74,
     "metadata": {},
     "output_type": "execute_result"
    }
   ],
   "source": [
    "function conf_random(n::Int,m::Int)\n",
    "    out=zeros(n,n)\n",
    "    out[1,1]=rand(0:2)\n",
    "    for i in 1:n-1\n",
    "        for j in 1:n-1\n",
    "            out[i,j+1]=mod(out[i,j]+1,3)\n",
    "        end\n",
    "        out[i+1,:]=mod(out[i,:]+1,3)\n",
    "    end\n",
    "    if mod(n,3)==1\n",
    "        out[:,n]=mod(out[:,1]+1,3)\n",
    "        out[n,:]=mod(out[1,:]+1,3)\n",
    "        out[n,n]=mod(out[1,1]+2,3)\n",
    "    end\n",
    "    out\n",
    "end"
   ]
  },
  {
   "cell_type": "code",
   "execution_count": 79,
   "metadata": {
    "collapsed": false
   },
   "outputs": [
    {
     "data": {
      "text/plain": [
       "7x7 Array{Float64,2}:\n",
       " 1.0  2.0  0.0  1.0  2.0  0.0  2.0\n",
       " 2.0  0.0  1.0  2.0  0.0  1.0  0.0\n",
       " 0.0  1.0  2.0  0.0  1.0  2.0  1.0\n",
       " 1.0  2.0  0.0  1.0  2.0  0.0  2.0\n",
       " 2.0  0.0  1.0  2.0  0.0  1.0  0.0\n",
       " 0.0  1.0  2.0  0.0  1.0  2.0  1.0\n",
       " 2.0  0.0  1.0  2.0  0.0  1.0  0.0"
      ]
     },
     "execution_count": 79,
     "metadata": {},
     "output_type": "execute_result"
    }
   ],
   "source": [
    "conf_random(7,7)"
   ]
  },
  {
   "cell_type": "code",
   "execution_count": null,
   "metadata": {
    "collapsed": true
   },
   "outputs": [],
   "source": []
  },
  {
   "cell_type": "code",
   "execution_count": null,
   "metadata": {
    "collapsed": true
   },
   "outputs": [],
   "source": []
  }
 ],
 "metadata": {
  "kernelspec": {
   "display_name": "Julia 0.3.5",
   "language": "julia",
   "name": "julia 0.3"
  },
  "language_info": {
   "name": "julia",
   "version": "0.3.5"
  }
 },
 "nbformat": 4,
 "nbformat_minor": 0
}
